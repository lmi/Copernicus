{
  "cells": [
    {
      "cell_type": "markdown",
      "metadata": {
        "id": "g1Fkwk7C5kuh"
      },
      "source": [
        "# 🌊 Exploring Copernicus Marine Data in Google Colab\n",
        "\n",
        "**An interactive notebook for retrieving and exploring Copernicus Marine datasets, created by Náttúrufræðistofnun.**\n",
        "\n",
        "---\n",
        "\n",
        "### Overview\n",
        "This notebook connects to **Copernicus Marine Service** to retrieve and list all available datasets.\n",
        "Using Python, it fetches dataset descriptions automatically and generates markdown documentation.\n",
        "\n",
        "The script logs in Copernicus Marine using credentials and queries Copernicus Marine API for metadata.\n",
        "\n",
        "Find a full list of available products here: https://data.marine.copernicus.eu/products\n",
        "\n",
        "### How to Use\n",
        "1. Open this notebook in Google Colab or another cloud platform.\n",
        "2. Register a Copernicus Marine account here: https://data.marine.copernicus.eu/register\n",
        "3. Insert valid credentials in section Login to access the data.\n",
        "4. Run the provided code cells in sequence (do not skip cells) to explore dataset descriptions and available services, download, process and display them.\n",
        "\n",
        "| Try the code via free cloud platforms: | [![Colab](https://colab.research.google.com/assets/colab-badge.svg)](https://colab.research.google.com/github/lmi/Copernicus/blob/master/Marine/Overview/ConnectMarine.ipynb)\n",
        "\n",
        "---\n",
        "\n",
        "### Attribution\n",
        "- **License**: This notebook is published under **CC BY 4.0**.\n",
        "- **Citation**: \"*Credits: Náttúrufræðistofnun*\"\n",
        "- **Author**: Marco Pizzolato\n",
        "- **Data Sources**: [Copernicus Marine Service](https://marine.copernicus.eu/)\n",
        "- **Created in**: Python\n",
        "\n",
        "---\n",
        "\n",
        "**This notebook provides an automated way to explore and document Copernicus Marine datasets, making ocean data more accessible.**\n"
      ]
    },
    {
      "cell_type": "markdown",
      "metadata": {
        "id": "d-aVlInB5kuk"
      },
      "source": [
        "## Install and Import"
      ]
    },
    {
      "cell_type": "code",
      "execution_count": 62,
      "metadata": {
        "id": "wNAOQ2ba5kuk"
      },
      "outputs": [],
      "source": [
        "!pip install -q copernicusmarine pandas tabulate Pillow mdutils leafmap rioxarray xarray netCDF4 rasterio pyproj localtileserver"
      ]
    },
    {
      "cell_type": "code",
      "execution_count": 63,
      "metadata": {
        "id": "n4WcF2eg5kul"
      },
      "outputs": [],
      "source": [
        "import os\n",
        "import requests\n",
        "from PIL import Image\n",
        "from mdutils.mdutils import MdUtils\n",
        "from mdutils.tools import Html"
      ]
    },
    {
      "cell_type": "markdown",
      "metadata": {
        "id": "aFd3YCIv8cLD"
      },
      "source": [
        "## Login to Copernicus Marine"
      ]
    },
    {
      "cell_type": "markdown",
      "metadata": {
        "id": "0tb2SvWO8e4e"
      },
      "source": [
        "Register a Copernicus Marine account here: https://data.marine.copernicus.eu/register"
      ]
    },
    {
      "cell_type": "code",
      "execution_count": null,
      "metadata": {
        "id": "GDauVuI35kul"
      },
      "outputs": [],
      "source": [
        "import copernicusmarine as cm\n",
        "import getpass\n",
        "\n",
        "username = input(\"Enter your Copernicus Marine username: \")\n",
        "password = getpass.getpass(\"Enter your Copernicus Marine password: \")\n",
        "\n",
        "cm.login(username=username, password=password)"
      ]
    },
    {
      "cell_type": "markdown",
      "metadata": {
        "id": "TP01cZ615kul"
      },
      "source": [
        "## Fetch Catalog"
      ]
    },
    {
      "cell_type": "code",
      "execution_count": 66,
      "metadata": {
        "colab": {
          "base_uri": "https://localhost:8080/"
        },
        "id": "Bc1JUyXu5kul",
        "outputId": "1caebbf0-d7b8-4a48-fa61-f7fb9063f395"
      },
      "outputs": [
        {
          "name": "stderr",
          "output_type": "stream",
          "text": [
            "Fetching catalogue 1:   0%|          | 0/2 [00:00<?, ?it/s]\n",
            "Fetching products:   0%|          | 0/303 [00:00<?, ?it/s]\u001b[A\n",
            "Fetching products:   0%|          | 1/303 [00:01<08:07,  1.61s/it]\u001b[A\n",
            "Fetching products:   1%|          | 2/303 [00:01<03:41,  1.36it/s]\u001b[A\n",
            "Fetching products:   1%|▏         | 4/303 [00:02<01:59,  2.51it/s]\u001b[A\n",
            "Fetching products:   2%|▏         | 5/303 [00:02<01:31,  3.25it/s]\u001b[A\n",
            "Fetching products:   2%|▏         | 6/303 [00:02<01:23,  3.54it/s]\u001b[A\n",
            "Fetching products:   3%|▎         | 8/303 [00:02<00:55,  5.33it/s]\u001b[A\n",
            "Fetching products:   4%|▎         | 11/303 [00:02<00:33,  8.68it/s]\u001b[A\n",
            "Fetching products:   4%|▍         | 13/303 [00:02<00:31,  9.14it/s]\u001b[A\n",
            "Fetching products:   6%|▌         | 17/303 [00:03<00:22, 12.83it/s]\u001b[A\n",
            "Fetching products:   6%|▋         | 19/303 [00:03<00:24, 11.81it/s]\u001b[A\n",
            "Fetching products:   7%|▋         | 21/303 [00:03<00:23, 12.22it/s]\u001b[A\n",
            "Fetching products:   8%|▊         | 24/303 [00:03<00:21, 12.80it/s]\u001b[A\n",
            "Fetching products:   9%|▊         | 26/303 [00:03<00:22, 12.59it/s]\u001b[A\n",
            "Fetching products:  10%|▉         | 29/303 [00:04<00:21, 12.62it/s]\u001b[A\n",
            "Fetching products:  11%|█         | 32/303 [00:04<00:19, 13.61it/s]\u001b[A\n",
            "Fetching products:  12%|█▏        | 35/303 [00:04<00:16, 15.83it/s]\u001b[A\n",
            "Fetching products:  13%|█▎        | 39/303 [00:04<00:16, 16.22it/s]\u001b[A\n",
            "Fetching products:  15%|█▍        | 45/303 [00:05<00:16, 15.24it/s]\u001b[A\n",
            "Fetching products:  16%|█▌        | 47/303 [00:05<00:22, 11.40it/s]\u001b[A\n",
            "Fetching products:  16%|█▌        | 49/303 [00:05<00:26,  9.46it/s]\u001b[A\n",
            "Fetching products:  17%|█▋        | 51/303 [00:05<00:23, 10.71it/s]\u001b[A\n",
            "Fetching products:  17%|█▋        | 53/303 [00:06<00:24, 10.12it/s]\u001b[A\n",
            "Fetching products:  18%|█▊        | 55/303 [00:06<00:25,  9.91it/s]\u001b[A\n",
            "Fetching products:  19%|█▉        | 57/303 [00:06<00:23, 10.30it/s]\u001b[A\n",
            "Fetching products:  19%|█▉        | 59/303 [00:06<00:22, 10.66it/s]\u001b[A\n",
            "Fetching products:  20%|██        | 61/303 [00:06<00:21, 11.25it/s]\u001b[A\n",
            "Fetching products:  21%|██        | 64/303 [00:07<00:21, 11.28it/s]\u001b[A\n",
            "Fetching products:  22%|██▏       | 66/303 [00:07<00:20, 11.43it/s]\u001b[A\n",
            "Fetching products:  22%|██▏       | 68/303 [00:07<00:18, 12.49it/s]\u001b[A\n",
            "Fetching products:  23%|██▎       | 70/303 [00:07<00:17, 13.64it/s]\u001b[A\n",
            "Fetching products:  24%|██▍       | 72/303 [00:07<00:15, 14.80it/s]\u001b[A\n",
            "Fetching products:  25%|██▌       | 76/303 [00:07<00:11, 19.83it/s]\u001b[A\n",
            "Fetching products:  26%|██▌       | 79/303 [00:07<00:11, 19.59it/s]\u001b[A\n",
            "Fetching products:  28%|██▊       | 85/303 [00:08<00:08, 25.48it/s]\u001b[A\n",
            "Fetching products:  29%|██▉       | 88/303 [00:08<00:08, 24.15it/s]\u001b[A\n",
            "Fetching products:  30%|███       | 91/303 [00:08<00:08, 23.57it/s]\u001b[A\n",
            "Fetching products:  31%|███       | 94/303 [00:08<00:09, 21.09it/s]\u001b[A\n",
            "Fetching products:  32%|███▏      | 97/303 [00:08<00:10, 19.47it/s]\u001b[A\n",
            "Fetching products:  33%|███▎      | 99/303 [00:08<00:12, 16.82it/s]\u001b[A\n",
            "Fetching products:  34%|███▎      | 102/303 [00:09<00:11, 17.90it/s]\u001b[A\n",
            "Fetching products:  35%|███▍      | 106/303 [00:09<00:12, 15.58it/s]\u001b[A\n",
            "Fetching products:  36%|███▌      | 109/303 [00:09<00:10, 18.01it/s]\u001b[A\n",
            "Fetching products:  37%|███▋      | 112/303 [00:09<00:11, 16.16it/s]\u001b[A\n",
            "Fetching products:  38%|███▊      | 116/303 [00:09<00:09, 18.89it/s]\u001b[A\n",
            "Fetching products:  40%|███▉      | 120/303 [00:09<00:09, 19.93it/s]\u001b[A\n",
            "Fetching products:  41%|████      | 123/303 [00:10<00:14, 12.00it/s]\u001b[A\n",
            "Fetching products:  41%|████▏     | 125/303 [00:10<00:16, 10.74it/s]\u001b[A\n",
            "Fetching products:  42%|████▏     | 128/303 [00:10<00:13, 12.73it/s]\u001b[A\n",
            "Fetching products:  43%|████▎     | 130/303 [00:11<00:16, 10.74it/s]\u001b[A\n",
            "Fetching products:  44%|████▎     | 132/303 [00:11<00:16, 10.59it/s]\u001b[A\n",
            "Fetching products:  45%|████▍     | 135/303 [00:11<00:14, 11.52it/s]\u001b[A\n",
            "Fetching products:  45%|████▌     | 137/303 [00:12<00:19,  8.39it/s]\u001b[A\n",
            "Fetching products:  47%|████▋     | 141/303 [00:12<00:16,  9.86it/s]\u001b[A\n",
            "Fetching products:  47%|████▋     | 143/303 [00:12<00:16,  9.64it/s]\u001b[A\n",
            "Fetching products:  48%|████▊     | 145/303 [00:12<00:16,  9.38it/s]\u001b[A\n",
            "Fetching products:  49%|████▉     | 148/303 [00:12<00:12, 11.99it/s]\u001b[A\n",
            "Fetching products:  50%|████▉     | 151/303 [00:13<00:10, 14.25it/s]\u001b[A\n",
            "Fetching products:  51%|█████     | 155/303 [00:13<00:08, 17.40it/s]\u001b[A\n",
            "Fetching products:  52%|█████▏    | 158/303 [00:13<00:07, 18.92it/s]\u001b[A\n",
            "Fetching products:  53%|█████▎    | 161/303 [00:13<00:07, 18.94it/s]\u001b[A\n",
            "Fetching products:  54%|█████▍    | 164/303 [00:13<00:09, 14.41it/s]\u001b[A\n",
            "Fetching products:  55%|█████▍    | 166/303 [00:13<00:09, 14.63it/s]\u001b[A\n",
            "Fetching products:  56%|█████▌    | 170/303 [00:14<00:07, 17.96it/s]\u001b[A\n",
            "Fetching products:  57%|█████▋    | 173/303 [00:14<00:07, 17.97it/s]\u001b[A\n",
            "Fetching products:  58%|█████▊    | 175/303 [00:14<00:09, 13.93it/s]\u001b[A\n",
            "Fetching products:  58%|█████▊    | 177/303 [00:14<00:09, 12.98it/s]\u001b[A\n",
            "Fetching products:  60%|██████    | 182/303 [00:14<00:06, 17.94it/s]\u001b[A\n",
            "Fetching products:  61%|██████    | 184/303 [00:15<00:07, 15.15it/s]\u001b[A\n",
            "Fetching products:  62%|██████▏   | 187/303 [00:15<00:06, 16.64it/s]\u001b[A\n",
            "Fetching products:  62%|██████▏   | 189/303 [00:15<00:07, 14.91it/s]\u001b[A\n",
            "Fetching products:  63%|██████▎   | 191/303 [00:15<00:10, 10.26it/s]\u001b[A\n",
            "Fetching products:  64%|██████▎   | 193/303 [00:15<00:09, 11.12it/s]\u001b[A\n",
            "Fetching products:  64%|██████▍   | 195/303 [00:16<00:10, 10.17it/s]\u001b[A\n",
            "Fetching products:  65%|██████▌   | 197/303 [00:16<00:10, 10.24it/s]\u001b[A\n",
            "Fetching products:  66%|██████▌   | 199/303 [00:16<00:12,  8.06it/s]\u001b[A\n",
            "Fetching products:  66%|██████▋   | 201/303 [00:16<00:11,  8.52it/s]\u001b[A\n",
            "Fetching products:  67%|██████▋   | 202/303 [00:17<00:15,  6.50it/s]\u001b[A\n",
            "Fetching products:  67%|██████▋   | 203/303 [00:17<00:14,  6.84it/s]\u001b[A\n",
            "Fetching products:  68%|██████▊   | 205/303 [00:17<00:13,  7.51it/s]\u001b[A\n",
            "Fetching products:  68%|██████▊   | 206/303 [00:17<00:12,  7.84it/s]\u001b[A\n",
            "Fetching products:  69%|██████▉   | 210/303 [00:17<00:07, 13.17it/s]\u001b[A\n",
            "Fetching products:  70%|██████▉   | 212/303 [00:18<00:07, 11.48it/s]\u001b[A\n",
            "Fetching products:  72%|███████▏  | 217/303 [00:18<00:04, 18.62it/s]\u001b[A\n",
            "Fetching products:  73%|███████▎  | 220/303 [00:18<00:05, 14.76it/s]\u001b[A\n",
            "Fetching products:  74%|███████▎  | 223/303 [00:18<00:06, 11.98it/s]\u001b[A\n",
            "Fetching products:  75%|███████▍  | 227/303 [00:18<00:04, 15.91it/s]\u001b[A\n",
            "Fetching products:  76%|███████▌  | 230/303 [00:19<00:05, 13.05it/s]\u001b[A\n",
            "Fetching products:  77%|███████▋  | 232/303 [00:19<00:06, 11.61it/s]\u001b[A\n",
            "Fetching products:  77%|███████▋  | 234/303 [00:19<00:05, 12.74it/s]\u001b[A\n",
            "Fetching products:  78%|███████▊  | 236/303 [00:19<00:04, 13.98it/s]\u001b[A\n",
            "Fetching products:  79%|███████▊  | 238/303 [00:19<00:04, 13.19it/s]\u001b[A\n",
            "Fetching products:  79%|███████▉  | 240/303 [00:20<00:04, 14.10it/s]\u001b[A\n",
            "Fetching products:  80%|███████▉  | 242/303 [00:20<00:04, 15.22it/s]\u001b[A\n",
            "Fetching products:  81%|████████  | 244/303 [00:20<00:06,  9.69it/s]\u001b[A\n",
            "Fetching products:  81%|████████  | 246/303 [00:20<00:05, 10.05it/s]\u001b[A\n",
            "Fetching products:  82%|████████▏ | 248/303 [00:20<00:05, 10.01it/s]\u001b[A\n",
            "Fetching products:  83%|████████▎ | 251/303 [00:20<00:03, 13.20it/s]\u001b[A\n",
            "Fetching products:  84%|████████▍ | 255/303 [00:21<00:02, 18.24it/s]\u001b[A\n",
            "Fetching products:  85%|████████▌ | 258/303 [00:21<00:02, 18.30it/s]\u001b[A\n",
            "Fetching products:  86%|████████▌ | 261/303 [00:21<00:02, 20.47it/s]\u001b[A\n",
            "Fetching products:  87%|████████▋ | 264/303 [00:21<00:02, 19.41it/s]\u001b[A\n",
            "Fetching products:  89%|████████▉ | 269/303 [00:21<00:01, 21.48it/s]\u001b[A\n",
            "Fetching products:  90%|████████▉ | 272/303 [00:21<00:01, 18.35it/s]\u001b[A\n",
            "Fetching products:  91%|█████████ | 275/303 [00:22<00:01, 19.97it/s]\u001b[A\n",
            "Fetching products:  92%|█████████▏| 278/303 [00:22<00:01, 21.76it/s]\u001b[A\n",
            "Fetching products:  93%|█████████▎| 281/303 [00:22<00:01, 20.94it/s]\u001b[A\n",
            "Fetching products:  94%|█████████▍| 286/303 [00:22<00:00, 25.43it/s]\u001b[A\n",
            "Fetching products:  96%|█████████▋| 292/303 [00:22<00:00, 32.89it/s]\u001b[A\n",
            "Fetching products:  98%|█████████▊| 296/303 [00:22<00:00, 28.48it/s]\u001b[AWARNING:urllib3.connectionpool:Connection pool is full, discarding connection: s3.waw3-1.cloudferro.com. Connection pool size: 10\n",
            "WARNING:urllib3.connectionpool:Connection pool is full, discarding connection: s3.waw3-1.cloudferro.com. Connection pool size: 10\n",
            "\n",
            "Fetching products:  99%|█████████▉| 300/303 [00:23<00:00, 22.77it/s]\u001b[AWARNING:urllib3.connectionpool:Connection pool is full, discarding connection: s3.waw3-1.cloudferro.com. Connection pool size: 10\n",
            "WARNING:urllib3.connectionpool:Connection pool is full, discarding connection: s3.waw3-1.cloudferro.com. Connection pool size: 10\n",
            "WARNING:urllib3.connectionpool:Connection pool is full, discarding connection: s3.waw3-1.cloudferro.com. Connection pool size: 10\n",
            "\n",
            "Fetching products: 100%|██████████| 303/303 [00:23<00:00, 11.84it/s]\u001b[A\n",
            "Fetching catalogue 1: 100%|██████████| 2/2 [00:34<00:00, 17.36s/it]\n"
          ]
        }
      ],
      "source": [
        "catalog = cm.describe()"
      ]
    },
    {
      "cell_type": "code",
      "execution_count": 67,
      "metadata": {
        "colab": {
          "base_uri": "https://localhost:8080/"
        },
        "id": "G3l5l85F5kul",
        "outputId": "e52c8414-5052-438e-dbb9-9e818bd0f1c3"
      },
      "outputs": [
        {
          "name": "stdout",
          "output_type": "stream",
          "text": [
            "{'title': 'Antarctic Sea Ice Extent from Reanalysis', 'product_id': 'ANTARCTIC_OMI_SI_extent', 'thumbnail_url': 'https://documentation.marine.copernicus.eu/IMG/ANTARCTIC_OMI_SI_extent.png', 'description': '**DEFINITION**\\n\\nEstimates of Antarctic sea ice extent are obtained from the surface of oceans grid cells that have at least 15% sea ice concentration. These values are cumulated in the entire Southern Hemisphere (excluding ice lakes) and from 1993 up to real time aiming to:\\ni) obtain the Antarctic sea ice extent as expressed in millions of km squared (106 km2) to monitor both the large-scale variability and mean state and change.\\nii) to monitor the change in sea ice extent as expressed in millions of km squared per decade (106 km2/decade), or in sea ice extent loss/gain since the beginning of the time series as expressed in percent per decade (%/decade; reference period being the first date of the key figure b) dot-dashed trend line, Vaughan et al., 2013)). For the Southern Hemisphere, these trends are calculated from the annual mean values.\\nThe Antarctic sea ice extent used here is based on the “multi-product” (GLOBAL_MULTIYEAR_PHY_ENS_001_031) approach as introduced in the second issue of the Ocean State Report (CMEMS OSR, 2017). Five global products have been used to build the ensemble mean, and its associated ensemble spread.\\n\\n**CONTEXT**\\n\\nSea ice is frozen seawater that floats on the ocean surface. This large blanket of millions of square kilometers insulates the relatively warm ocean waters from the cold polar atmosphere. The seasonal cycle of the sea ice, forming and melting with the polar seasons, impacts both human activities and biological habitat. Knowing how and how much the sea ice cover is changing is essential for monitoring the health of the Earth as sea ice is one of the highest sensitive natural environments. Variations in sea ice cover can induce changes in ocean stratification and modify the key rule played by the cold poles in the Earth engine (IPCC, 2019).  \\nThe sea ice cover is monitored here in terms of sea ice extent quantity. More details and full scientific evaluations can be found in the CMEMS Ocean State Report (Samuelsen et al., 2016; Samuelsen et al., 2018).\\n \\n**CMEMS KEY FINDINGS**\\n\\nWith quasi regular highs and lows, the annual Antarctic sea ice extent shows large variability until several monthly record high in 2014 and record lows in 2017, 2018 and 2023. Since the year 1993, the Southern Hemisphere annual sea ice extent regularly alternates positive and negative trend. The period 1993-2023 have seen a slight decrease at a rate of -0.28*106km2 per decade. This represents a loss amount of -2.4% per decade of Southern Hemisphere sea ice extent during this period; with however large uncertainties. The last quarter of the year 2016 and years 2017 and 2018 experienced unusual losses of ice. The year 2023 is an exceptional year and its average has a strong impact on the whole time series.\\n\\nNote: The key findings will be updated annually in November, in line with OMI evolutions.\\n\\n**DOI (product):** \\nhttps://doi.org/10.48670/moi-00186\\n\\n**References:**\\n\\n* IPCC Special Report on the Ocean and Cryosphere in a Changing Climate. (2019). In H. O. Pörtner, D. C. Roberts, V. Masson-Delmotte, P. Zhai, M. Tignor, E. Poloczanska, K. Mintenbeck, A. Alegría, M. Nicolai, A. Okem, J. Petzold, B. Rama, & N. M. Weyer (Eds.), IPCC Intergovernmental Panel on Climate Change: Geneva, Switzerland. https://www.ipcc.ch/srocc/\\n* Samuelsen et al., 2016: Sea Ice In: The Copernicus Marine Environment Monitoring Service Ocean State Report, issue 1, Journal of Operational Oceanography, 9, 2016, http://dx.doi.org/10.1080/1755876X.2016.1273446.\\n* Samuelsen et al., 2018: Sea Ice. In: The Copernicus Marine Environment Monitoring Service Ocean State Report, issue 2, Journal of Operational Oceanography, 11:sup1, 2018, DOI: 10.1080/1755876X.2018.1489208.\\n* Vaughan, D.G., J.C. Comiso, I. Allison, J. Carrasco, G. Kaser, R. Kwok, P. Mote, T. Murray, F. Paul, J. Ren, E. Rignot, O. Solomina, K. Steffen and T. Zhang, 2013: Observations: Cryosphere. In: Climate Change 2013: The Physical Science Basis. Contribution of Working Group I to the Fifth Assessment Report of the Intergovernmental Panel on Climate Change [Stocker, T.F., D. Qin, G.-K. Plattner, M.Tignor, S.K. Allen, J. Boschung, A. Nauels, Y. Xia, V. Bex and P.M. Midgley (eds.)]. Cambridge University Press, Cambridge, United Kingdom and New York, NY, USA, pp. 317–382, doi:10.1017/CBO9781107415324.012.\\n', 'digital_object_identifier': '10.48670/moi-00186', 'sources': ['Numerical models'], 'processing_level': None, 'production_center': 'Mercator Ocean International', 'keywords': ['target-application#seaiceinformation', 'oceanographic-geographical-features', 'numerical-model', 'sea-ice-extent', 'multi-year', 'marine-resources', 'weather-climate-and-seasonal-forecasting', 'marine-safety', 'coastal-marine-environment', 'global-ocean'], 'datasets': [{'dataset_id': 'antarctic_omi_si_extent', 'dataset_name': 'Sea Ice Extent for Southern Hemisphere', 'digital_object_identifier': '10.48670/moi-00186', 'versions': [{'label': '202411', 'parts': [{'name': 'default', 'services': [{'service_name': 'original-files', 'service_short_name': 'files', 'service_format': None, 'uri': 'https://s3.waw3-1.cloudferro.com/mdl-native-10/native/ANTARCTIC_OMI_SI_extent/antarctic_omi_si_extent_202411/ANTARCTIC_OMI_SI_extent.nc', 'variables': [{'short_name': 'siextents_cglo', 'standard_name': 'sea_ice_extent', 'units': 'km2', 'bbox': [0.0, 0.0, 0.0, 0.0], 'coordinates': []}, {'short_name': 'siextents_glor', 'standard_name': 'sea_ice_extent', 'units': 'km2', 'bbox': [0.0, 0.0, 0.0, 0.0], 'coordinates': []}, {'short_name': 'siextents_mean', 'standard_name': 'sea_ice_extent', 'units': 'km2', 'bbox': [0.0, 0.0, 0.0, 0.0], 'coordinates': []}, {'short_name': 'siextents_oras', 'standard_name': 'sea_ice_extent', 'units': 'km2', 'bbox': [0.0, 0.0, 0.0, 0.0], 'coordinates': []}, {'short_name': 'siextents_std', 'standard_name': 'sea_ice_extent', 'units': 'km2', 'bbox': [0.0, 0.0, 0.0, 0.0], 'coordinates': []}], 'platforms_metadata': None}, {'service_name': 'omi-arco', 'service_short_name': 'omi-arco', 'service_format': 'zarr', 'uri': 'https://s3.waw3-1.cloudferro.com/mdl-arco-time-001/arco/ANTARCTIC_OMI_SI_extent/antarctic_omi_si_extent_202411/omi.zarr', 'variables': [{'short_name': 'siextents_cglo', 'standard_name': 'sea_ice_extent', 'units': 'km2', 'bbox': [0.0, 0.0, 0.0, 0.0], 'coordinates': [{'coordinate_id': 'time', 'coordinate_unit': 'milliseconds since 1970-01-01 00:00:00Z (no leap seconds)', 'minimum_value': None, 'maximum_value': None, 'step': None, 'values': [725846400000, 728524800000, 730944000000, 733622400000, 736214400000, 738892800000, 741484800000, 744163200000, 746841600000, 749433600000, 752112000000, 754704000000, 757382400000, 760060800000, 762480000000, 765158400000, 767750400000, 770428800000, 773020800000, 775699200000, 778377600000, 780969600000, 783648000000, 786240000000, 788918400000, 791596800000, 794016000000, 796694400000, 799286400000, 801964800000, 804556800000, 807235200000, 809913600000, 812505600000, 815184000000, 817776000000, 820454400000, 823132800000, 825638400000, 828316800000, 830908800000, 833587200000, 836179200000, 838857600000, 841536000000, 844128000000, 846806400000, 849398400000, 852076800000, 854755200000, 857174400000, 859852800000, 862444800000, 865123200000, 867715200000, 870393600000, 873072000000, 875664000000, 878342400000, 880934400000, 883612800000, 886291200000, 888710400000, 891388800000, 893980800000, 896659200000, 899251200000, 901929600000, 904608000000, 907200000000, 909878400000, 912470400000, 915148800000, 917827200000, 920246400000, 922924800000, 925516800000, 928195200000, 930787200000, 933465600000, 936144000000, 938736000000, 941414400000, 944006400000, 946684800000, 949363200000, 951868800000, 954547200000, 957139200000, 959817600000, 962409600000, 965088000000, 967766400000, 970358400000, 973036800000, 975628800000, 978307200000, 980985600000, 983404800000, 986083200000, 988675200000, 991353600000, 993945600000, 996624000000, 999302400000, 1001894400000, 1004572800000, 1007164800000, 1009843200000, 1012521600000, 1014940800000, 1017619200000, 1020211200000, 1022889600000, 1025481600000, 1028160000000, 1030838400000, 1033430400000, 1036108800000, 1038700800000, 1041379200000, 1044057600000, 1046476800000, 1049155200000, 1051747200000, 1054425600000, 1057017600000, 1059696000000, 1062374400000, 1064966400000, 1067644800000, 1070236800000, 1072915200000, 1075593600000, 1078099200000, 1080777600000, 1083369600000, 1086048000000, 1088640000000, 1091318400000, 1093996800000, 1096588800000, 1099267200000, 1101859200000, 1104537600000, 1107216000000, 1109635200000, 1112313600000, 1114905600000, 1117584000000, 1120176000000, 1122854400000, 1125532800000, 1128124800000, 1130803200000, 1133395200000, 1136073600000, 1138752000000, 1141171200000, 1143849600000, 1146441600000, 1149120000000, 1151712000000, 1154390400000, 1157068800000, 1159660800000, 1162339200000, 1164931200000, 1167609600000, 1170288000000, 1172707200000, 1175385600000, 1177977600000, 1180656000000, 1183248000000, 1185926400000, 1188604800000, 1191196800000, 1193875200000, 1196467200000, 1199145600000, 1201824000000, 1204329600000, 1207008000000, 1209600000000, 1212278400000, 1214870400000, 1217548800000, 1220227200000, 1222819200000, 1225497600000, 1228089600000, 1230768000000, 1233446400000, 1235865600000, 1238544000000, 1241136000000, 1243814400000, 1246406400000, 1249084800000, 1251763200000, 1254355200000, 1257033600000, 1259625600000, 1262304000000, 1264982400000, 1267401600000, 1270080000000, 1272672000000, 1275350400000, 1277942400000, 1280620800000, 1283299200000, 1285891200000, 1288569600000, 1291161600000, 1293840000000, 1296518400000, 1298937600000, 1301616000000, 1304208000000, 1306886400000, 1309478400000, 1312156800000, 1314835200000, 1317427200000, 1320105600000, 1322697600000, 1325376000000, 1328054400000, 1330560000000, 1333238400000, 1335830400000, 1338508800000, 1341100800000, 1343779200000, 1346457600000, 1349049600000, 1351728000000, 1354320000000, 1356998400000, 1359676800000, 1362096000000, 1364774400000, 1367366400000, 1370044800000, 1372636800000, 1375315200000, 1377993600000, 1380585600000, 1383264000000, 1385856000000, 1388534400000, 1391212800000, 1393632000000, 1396310400000, 1398902400000, 1401580800000, 1404172800000, 1406851200000, 1409529600000, 1412121600000, 1414800000000, 1417392000000, 1420070400000, 1422748800000, 1425168000000, 1427846400000, 1430438400000, 1433116800000, 1435708800000, 1438387200000, 1441065600000, 1443657600000, 1446336000000, 1448928000000, 1451606400000, 1454284800000, 1456790400000, 1459468800000, 1462060800000, 1464739200000, 1467331200000, 1470009600000, 1472688000000, 1475280000000, 1477958400000, 1480550400000, 1483228800000, 1485907200000, 1488326400000, 1491004800000, 1493596800000, 1496275200000, 1498867200000, 1501545600000, 1504224000000, 1506816000000, 1509494400000, 1512086400000, 1514764800000, 1517443200000, 1519862400000, 1522540800000, 1525132800000, 1527811200000, 1530403200000, 1533081600000, 1535760000000, 1538352000000, 1541030400000, 1543622400000, 1546300800000, 1548979200000, 1551398400000, 1554076800000, 1556668800000, 1559347200000, 1561939200000, 1564617600000, 1567296000000, 1569888000000, 1572566400000, 1575158400000, 1577836800000, 1580515200000, 1583020800000, 1585699200000, 1588291200000, 1590969600000, 1593561600000, 1596240000000, 1598918400000, 1601510400000, 1604188800000, 1606780800000, 1609459200000, 1612137600000, 1614556800000, 1617235200000, 1619827200000, 1622505600000, 1625097600000, 1627776000000, 1630454400000, 1633046400000, 1635724800000, 1638316800000, 1640995200000, 1643673600000, 1646092800000, 1648771200000, 1651363200000, 1654041600000, 1656633600000, 1659312000000, 1661990400000, 1664582400000, 1667260800000, 1669852800000, 1672531200000, 1675209600000, 1677628800000, 1680307200000, 1682899200000, 1685577600000, 1688169600000, 1690848000000, 1693526400000, 1696118400000, 1698796800000, 1701388800000], 'chunking_length': 372, 'chunk_type': None, 'chunk_reference_coordinate': None, 'chunk_geometric_factor': None, 'axis': 't'}]}, {'short_name': 'siextents_glor', 'standard_name': 'sea_ice_extent', 'units': 'km2', 'bbox': [0.0, 0.0, 0.0, 0.0], 'coordinates': [{'coordinate_id': 'time', 'coordinate_unit': 'milliseconds since 1970-01-01 00:00:00Z (no leap seconds)', 'minimum_value': None, 'maximum_value': None, 'step': None, 'values': [725846400000, 728524800000, 730944000000, 733622400000, 736214400000, 738892800000, 741484800000, 744163200000, 746841600000, 749433600000, 752112000000, 754704000000, 757382400000, 760060800000, 762480000000, 765158400000, 767750400000, 770428800000, 773020800000, 775699200000, 778377600000, 780969600000, 783648000000, 786240000000, 788918400000, 791596800000, 794016000000, 796694400000, 799286400000, 801964800000, 804556800000, 807235200000, 809913600000, 812505600000, 815184000000, 817776000000, 820454400000, 823132800000, 825638400000, 828316800000, 830908800000, 833587200000, 836179200000, 838857600000, 841536000000, 844128000000, 846806400000, 849398400000, 852076800000, 854755200000, 857174400000, 859852800000, 862444800000, 865123200000, 867715200000, 870393600000, 873072000000, 875664000000, 878342400000, 880934400000, 883612800000, 886291200000, 888710400000, 891388800000, 893980800000, 896659200000, 899251200000, 901929600000, 904608000000, 907200000000, 909878400000, 912470400000, 915148800000, 917827200000, 920246400000, 922924800000, 925516800000, 928195200000, 930787200000, 933465600000, 936144000000, 938736000000, 941414400000, 944006400000, 946684800000, 949363200000, 951868800000, 954547200000, 957139200000, 959817600000, 962409600000, 965088000000, 967766400000, 970358400000, 973036800000, 975628800000, 978307200000, 980985600000, 983404800000, 986083200000, 988675200000, 991353600000, 993945600000, 996624000000, 999302400000, 1001894400000, 1004572800000, 1007164800000, 1009843200000, 1012521600000, 1014940800000, 1017619200000, 1020211200000, 1022889600000, 1025481600000, 1028160000000, 1030838400000, 1033430400000, 1036108800000, 1038700800000, 1041379200000, 1044057600000, 1046476800000, 1049155200000, 1051747200000, 1054425600000, 1057017600000, 1059696000000, 1062374400000, 1064966400000, 1067644800000, 1070236800000, 1072915200000, 1075593600000, 1078099200000, 1080777600000, 1083369600000, 1086048000000, 1088640000000, 1091318400000, 1093996800000, 1096588800000, 1099267200000, 1101859200000, 1104537600000, 1107216000000, 1109635200000, 1112313600000, 1114905600000, 1117584000000, 1120176000000, 1122854400000, 1125532800000, 1128124800000, 1130803200000, 1133395200000, 1136073600000, 1138752000000, 1141171200000, 1143849600000, 1146441600000, 1149120000000, 1151712000000, 1154390400000, 1157068800000, 1159660800000, 1162339200000, 1164931200000, 1167609600000, 1170288000000, 1172707200000, 1175385600000, 1177977600000, 1180656000000, 1183248000000, 1185926400000, 1188604800000, 1191196800000, 1193875200000, 1196467200000, 1199145600000, 1201824000000, 1204329600000, 1207008000000, 1209600000000, 1212278400000, 1214870400000, 1217548800000, 1220227200000, 1222819200000, 1225497600000, 1228089600000, 1230768000000, 1233446400000, 1235865600000, 1238544000000, 1241136000000, 1243814400000, 1246406400000, 1249084800000, 1251763200000, 1254355200000, 1257033600000, 1259625600000, 1262304000000, 1264982400000, 1267401600000, 1270080000000, 1272672000000, 1275350400000, 1277942400000, 1280620800000, 1283299200000, 1285891200000, 1288569600000, 1291161600000, 1293840000000, 1296518400000, 1298937600000, 1301616000000, 1304208000000, 1306886400000, 1309478400000, 1312156800000, 1314835200000, 1317427200000, 1320105600000, 1322697600000, 1325376000000, 1328054400000, 1330560000000, 1333238400000, 1335830400000, 1338508800000, 1341100800000, 1343779200000, 1346457600000, 1349049600000, 1351728000000, 1354320000000, 1356998400000, 1359676800000, 1362096000000, 1364774400000, 1367366400000, 1370044800000, 1372636800000, 1375315200000, 1377993600000, 1380585600000, 1383264000000, 1385856000000, 1388534400000, 1391212800000, 1393632000000, 1396310400000, 1398902400000, 1401580800000, 1404172800000, 1406851200000, 1409529600000, 1412121600000, 1414800000000, 1417392000000, 1420070400000, 1422748800000, 1425168000000, 1427846400000, 1430438400000, 1433116800000, 1435708800000, 1438387200000, 1441065600000, 1443657600000, 1446336000000, 1448928000000, 1451606400000, 1454284800000, 1456790400000, 1459468800000, 1462060800000, 1464739200000, 1467331200000, 1470009600000, 1472688000000, 1475280000000, 1477958400000, 1480550400000, 1483228800000, 1485907200000, 1488326400000, 1491004800000, 1493596800000, 1496275200000, 1498867200000, 1501545600000, 1504224000000, 1506816000000, 1509494400000, 1512086400000, 1514764800000, 1517443200000, 1519862400000, 1522540800000, 1525132800000, 1527811200000, 1530403200000, 1533081600000, 1535760000000, 1538352000000, 1541030400000, 1543622400000, 1546300800000, 1548979200000, 1551398400000, 1554076800000, 1556668800000, 1559347200000, 1561939200000, 1564617600000, 1567296000000, 1569888000000, 1572566400000, 1575158400000, 1577836800000, 1580515200000, 1583020800000, 1585699200000, 1588291200000, 1590969600000, 1593561600000, 1596240000000, 1598918400000, 1601510400000, 1604188800000, 1606780800000, 1609459200000, 1612137600000, 1614556800000, 1617235200000, 1619827200000, 1622505600000, 1625097600000, 1627776000000, 1630454400000, 1633046400000, 1635724800000, 1638316800000, 1640995200000, 1643673600000, 1646092800000, 1648771200000, 1651363200000, 1654041600000, 1656633600000, 1659312000000, 1661990400000, 1664582400000, 1667260800000, 1669852800000, 1672531200000, 1675209600000, 1677628800000, 1680307200000, 1682899200000, 1685577600000, 1688169600000, 1690848000000, 1693526400000, 1696118400000, 1698796800000, 1701388800000], 'chunking_length': 372, 'chunk_type': None, 'chunk_reference_coordinate': None, 'chunk_geometric_factor': None, 'axis': 't'}]}, {'short_name': 'siextents_mean', 'standard_name': 'sea_ice_extent', 'units': 'km2', 'bbox': [0.0, 0.0, 0.0, 0.0], 'coordinates': [{'coordinate_id': 'time', 'coordinate_unit': 'milliseconds since 1970-01-01 00:00:00Z (no leap seconds)', 'minimum_value': None, 'maximum_value': None, 'step': None, 'values': [725846400000, 728524800000, 730944000000, 733622400000, 736214400000, 738892800000, 741484800000, 744163200000, 746841600000, 749433600000, 752112000000, 754704000000, 757382400000, 760060800000, 762480000000, 765158400000, 767750400000, 770428800000, 773020800000, 775699200000, 778377600000, 780969600000, 783648000000, 786240000000, 788918400000, 791596800000, 794016000000, 796694400000, 799286400000, 801964800000, 804556800000, 807235200000, 809913600000, 812505600000, 815184000000, 817776000000, 820454400000, 823132800000, 825638400000, 828316800000, 830908800000, 833587200000, 836179200000, 838857600000, 841536000000, 844128000000, 846806400000, 849398400000, 852076800000, 854755200000, 857174400000, 859852800000, 862444800000, 865123200000, 867715200000, 870393600000, 873072000000, 875664000000, 878342400000, 880934400000, 883612800000, 886291200000, 888710400000, 891388800000, 893980800000, 896659200000, 899251200000, 901929600000, 904608000000, 907200000000, 909878400000, 912470400000, 915148800000, 917827200000, 920246400000, 922924800000, 925516800000, 928195200000, 930787200000, 933465600000, 936144000000, 938736000000, 941414400000, 944006400000, 946684800000, 949363200000, 951868800000, 954547200000, 957139200000, 959817600000, 962409600000, 965088000000, 967766400000, 970358400000, 973036800000, 975628800000, 978307200000, 980985600000, 983404800000, 986083200000, 988675200000, 991353600000, 993945600000, 996624000000, 999302400000, 1001894400000, 1004572800000, 1007164800000, 1009843200000, 1012521600000, 1014940800000, 1017619200000, 1020211200000, 1022889600000, 1025481600000, 1028160000000, 1030838400000, 1033430400000, 1036108800000, 1038700800000, 1041379200000, 1044057600000, 1046476800000, 1049155200000, 1051747200000, 1054425600000, 1057017600000, 1059696000000, 1062374400000, 1064966400000, 1067644800000, 1070236800000, 1072915200000, 1075593600000, 1078099200000, 1080777600000, 1083369600000, 1086048000000, 1088640000000, 1091318400000, 1093996800000, 1096588800000, 1099267200000, 1101859200000, 1104537600000, 1107216000000, 1109635200000, 1112313600000, 1114905600000, 1117584000000, 1120176000000, 1122854400000, 1125532800000, 1128124800000, 1130803200000, 1133395200000, 1136073600000, 1138752000000, 1141171200000, 1143849600000, 1146441600000, 1149120000000, 1151712000000, 1154390400000, 1157068800000, 1159660800000, 1162339200000, 1164931200000, 1167609600000, 1170288000000, 1172707200000, 1175385600000, 1177977600000, 1180656000000, 1183248000000, 1185926400000, 1188604800000, 1191196800000, 1193875200000, 1196467200000, 1199145600000, 1201824000000, 1204329600000, 1207008000000, 1209600000000, 1212278400000, 1214870400000, 1217548800000, 1220227200000, 1222819200000, 1225497600000, 1228089600000, 1230768000000, 1233446400000, 1235865600000, 1238544000000, 1241136000000, 1243814400000, 1246406400000, 1249084800000, 1251763200000, 1254355200000, 1257033600000, 1259625600000, 1262304000000, 1264982400000, 1267401600000, 1270080000000, 1272672000000, 1275350400000, 1277942400000, 1280620800000, 1283299200000, 1285891200000, 1288569600000, 1291161600000, 1293840000000, 1296518400000, 1298937600000, 1301616000000, 1304208000000, 1306886400000, 1309478400000, 1312156800000, 1314835200000, 1317427200000, 1320105600000, 1322697600000, 1325376000000, 1328054400000, 1330560000000, 1333238400000, 1335830400000, 1338508800000, 1341100800000, 1343779200000, 1346457600000, 1349049600000, 1351728000000, 1354320000000, 1356998400000, 1359676800000, 1362096000000, 1364774400000, 1367366400000, 1370044800000, 1372636800000, 1375315200000, 1377993600000, 1380585600000, 1383264000000, 1385856000000, 1388534400000, 1391212800000, 1393632000000, 1396310400000, 1398902400000, 1401580800000, 1404172800000, 1406851200000, 1409529600000, 1412121600000, 1414800000000, 1417392000000, 1420070400000, 1422748800000, 1425168000000, 1427846400000, 1430438400000, 1433116800000, 1435708800000, 1438387200000, 1441065600000, 1443657600000, 1446336000000, 1448928000000, 1451606400000, 1454284800000, 1456790400000, 1459468800000, 1462060800000, 1464739200000, 1467331200000, 1470009600000, 1472688000000, 1475280000000, 1477958400000, 1480550400000, 1483228800000, 1485907200000, 1488326400000, 1491004800000, 1493596800000, 1496275200000, 1498867200000, 1501545600000, 1504224000000, 1506816000000, 1509494400000, 1512086400000, 1514764800000, 1517443200000, 1519862400000, 1522540800000, 1525132800000, 1527811200000, 1530403200000, 1533081600000, 1535760000000, 1538352000000, 1541030400000, 1543622400000, 1546300800000, 1548979200000, 1551398400000, 1554076800000, 1556668800000, 1559347200000, 1561939200000, 1564617600000, 1567296000000, 1569888000000, 1572566400000, 1575158400000, 1577836800000, 1580515200000, 1583020800000, 1585699200000, 1588291200000, 1590969600000, 1593561600000, 1596240000000, 1598918400000, 1601510400000, 1604188800000, 1606780800000, 1609459200000, 1612137600000, 1614556800000, 1617235200000, 1619827200000, 1622505600000, 1625097600000, 1627776000000, 1630454400000, 1633046400000, 1635724800000, 1638316800000, 1640995200000, 1643673600000, 1646092800000, 1648771200000, 1651363200000, 1654041600000, 1656633600000, 1659312000000, 1661990400000, 1664582400000, 1667260800000, 1669852800000, 1672531200000, 1675209600000, 1677628800000, 1680307200000, 1682899200000, 1685577600000, 1688169600000, 1690848000000, 1693526400000, 1696118400000, 1698796800000, 1701388800000], 'chunking_length': 372, 'chunk_type': None, 'chunk_reference_coordinate': None, 'chunk_geometric_factor': None, 'axis': 't'}]}, {'short_name': 'siextents_oras', 'standard_name': 'sea_ice_extent', 'units': 'km2', 'bbox': [0.0, 0.0, 0.0, 0.0], 'coordinates': [{'coordinate_id': 'time', 'coordinate_unit': 'milliseconds since 1970-01-01 00:00:00Z (no leap seconds)', 'minimum_value': None, 'maximum_value': None, 'step': None, 'values': [725846400000, 728524800000, 730944000000, 733622400000, 736214400000, 738892800000, 741484800000, 744163200000, 746841600000, 749433600000, 752112000000, 754704000000, 757382400000, 760060800000, 762480000000, 765158400000, 767750400000, 770428800000, 773020800000, 775699200000, 778377600000, 780969600000, 783648000000, 786240000000, 788918400000, 791596800000, 794016000000, 796694400000, 799286400000, 801964800000, 804556800000, 807235200000, 809913600000, 812505600000, 815184000000, 817776000000, 820454400000, 823132800000, 825638400000, 828316800000, 830908800000, 833587200000, 836179200000, 838857600000, 841536000000, 844128000000, 846806400000, 849398400000, 852076800000, 854755200000, 857174400000, 859852800000, 862444800000, 865123200000, 867715200000, 870393600000, 873072000000, 875664000000, 878342400000, 880934400000, 883612800000, 886291200000, 888710400000, 891388800000, 893980800000, 896659200000, 899251200000, 901929600000, 904608000000, 907200000000, 909878400000, 912470400000, 915148800000, 917827200000, 920246400000, 922924800000, 925516800000, 928195200000, 930787200000, 933465600000, 936144000000, 938736000000, 941414400000, 944006400000, 946684800000, 949363200000, 951868800000, 954547200000, 957139200000, 959817600000, 962409600000, 965088000000, 967766400000, 970358400000, 973036800000, 975628800000, 978307200000, 980985600000, 983404800000, 986083200000, 988675200000, 991353600000, 993945600000, 996624000000, 999302400000, 1001894400000, 1004572800000, 1007164800000, 1009843200000, 1012521600000, 1014940800000, 1017619200000, 1020211200000, 1022889600000, 1025481600000, 1028160000000, 1030838400000, 1033430400000, 1036108800000, 1038700800000, 1041379200000, 1044057600000, 1046476800000, 1049155200000, 1051747200000, 1054425600000, 1057017600000, 1059696000000, 1062374400000, 1064966400000, 1067644800000, 1070236800000, 1072915200000, 1075593600000, 1078099200000, 1080777600000, 1083369600000, 1086048000000, 1088640000000, 1091318400000, 1093996800000, 1096588800000, 1099267200000, 1101859200000, 1104537600000, 1107216000000, 1109635200000, 1112313600000, 1114905600000, 1117584000000, 1120176000000, 1122854400000, 1125532800000, 1128124800000, 1130803200000, 1133395200000, 1136073600000, 1138752000000, 1141171200000, 1143849600000, 1146441600000, 1149120000000, 1151712000000, 1154390400000, 1157068800000, 1159660800000, 1162339200000, 1164931200000, 1167609600000, 1170288000000, 1172707200000, 1175385600000, 1177977600000, 1180656000000, 1183248000000, 1185926400000, 1188604800000, 1191196800000, 1193875200000, 1196467200000, 1199145600000, 1201824000000, 1204329600000, 1207008000000, 1209600000000, 1212278400000, 1214870400000, 1217548800000, 1220227200000, 1222819200000, 1225497600000, 1228089600000, 1230768000000, 1233446400000, 1235865600000, 1238544000000, 1241136000000, 1243814400000, 1246406400000, 1249084800000, 1251763200000, 1254355200000, 1257033600000, 1259625600000, 1262304000000, 1264982400000, 1267401600000, 1270080000000, 1272672000000, 1275350400000, 1277942400000, 1280620800000, 1283299200000, 1285891200000, 1288569600000, 1291161600000, 1293840000000, 1296518400000, 1298937600000, 1301616000000, 1304208000000, 1306886400000, 1309478400000, 1312156800000, 1314835200000, 1317427200000, 1320105600000, 1322697600000, 1325376000000, 1328054400000, 1330560000000, 1333238400000, 1335830400000, 1338508800000, 1341100800000, 1343779200000, 1346457600000, 1349049600000, 1351728000000, 1354320000000, 1356998400000, 1359676800000, 1362096000000, 1364774400000, 1367366400000, 1370044800000, 1372636800000, 1375315200000, 1377993600000, 1380585600000, 1383264000000, 1385856000000, 1388534400000, 1391212800000, 1393632000000, 1396310400000, 1398902400000, 1401580800000, 1404172800000, 1406851200000, 1409529600000, 1412121600000, 1414800000000, 1417392000000, 1420070400000, 1422748800000, 1425168000000, 1427846400000, 1430438400000, 1433116800000, 1435708800000, 1438387200000, 1441065600000, 1443657600000, 1446336000000, 1448928000000, 1451606400000, 1454284800000, 1456790400000, 1459468800000, 1462060800000, 1464739200000, 1467331200000, 1470009600000, 1472688000000, 1475280000000, 1477958400000, 1480550400000, 1483228800000, 1485907200000, 1488326400000, 1491004800000, 1493596800000, 1496275200000, 1498867200000, 1501545600000, 1504224000000, 1506816000000, 1509494400000, 1512086400000, 1514764800000, 1517443200000, 1519862400000, 1522540800000, 1525132800000, 1527811200000, 1530403200000, 1533081600000, 1535760000000, 1538352000000, 1541030400000, 1543622400000, 1546300800000, 1548979200000, 1551398400000, 1554076800000, 1556668800000, 1559347200000, 1561939200000, 1564617600000, 1567296000000, 1569888000000, 1572566400000, 1575158400000, 1577836800000, 1580515200000, 1583020800000, 1585699200000, 1588291200000, 1590969600000, 1593561600000, 1596240000000, 1598918400000, 1601510400000, 1604188800000, 1606780800000, 1609459200000, 1612137600000, 1614556800000, 1617235200000, 1619827200000, 1622505600000, 1625097600000, 1627776000000, 1630454400000, 1633046400000, 1635724800000, 1638316800000, 1640995200000, 1643673600000, 1646092800000, 1648771200000, 1651363200000, 1654041600000, 1656633600000, 1659312000000, 1661990400000, 1664582400000, 1667260800000, 1669852800000, 1672531200000, 1675209600000, 1677628800000, 1680307200000, 1682899200000, 1685577600000, 1688169600000, 1690848000000, 1693526400000, 1696118400000, 1698796800000, 1701388800000], 'chunking_length': 372, 'chunk_type': None, 'chunk_reference_coordinate': None, 'chunk_geometric_factor': None, 'axis': 't'}]}, {'short_name': 'siextents_std', 'standard_name': 'sea_ice_extent', 'units': 'km2', 'bbox': [0.0, 0.0, 0.0, 0.0], 'coordinates': [{'coordinate_id': 'time', 'coordinate_unit': 'milliseconds since 1970-01-01 00:00:00Z (no leap seconds)', 'minimum_value': None, 'maximum_value': None, 'step': None, 'values': [725846400000, 728524800000, 730944000000, 733622400000, 736214400000, 738892800000, 741484800000, 744163200000, 746841600000, 749433600000, 752112000000, 754704000000, 757382400000, 760060800000, 762480000000, 765158400000, 767750400000, 770428800000, 773020800000, 775699200000, 778377600000, 780969600000, 783648000000, 786240000000, 788918400000, 791596800000, 794016000000, 796694400000, 799286400000, 801964800000, 804556800000, 807235200000, 809913600000, 812505600000, 815184000000, 817776000000, 820454400000, 823132800000, 825638400000, 828316800000, 830908800000, 833587200000, 836179200000, 838857600000, 841536000000, 844128000000, 846806400000, 849398400000, 852076800000, 854755200000, 857174400000, 859852800000, 862444800000, 865123200000, 867715200000, 870393600000, 873072000000, 875664000000, 878342400000, 880934400000, 883612800000, 886291200000, 888710400000, 891388800000, 893980800000, 896659200000, 899251200000, 901929600000, 904608000000, 907200000000, 909878400000, 912470400000, 915148800000, 917827200000, 920246400000, 922924800000, 925516800000, 928195200000, 930787200000, 933465600000, 936144000000, 938736000000, 941414400000, 944006400000, 946684800000, 949363200000, 951868800000, 954547200000, 957139200000, 959817600000, 962409600000, 965088000000, 967766400000, 970358400000, 973036800000, 975628800000, 978307200000, 980985600000, 983404800000, 986083200000, 988675200000, 991353600000, 993945600000, 996624000000, 999302400000, 1001894400000, 1004572800000, 1007164800000, 1009843200000, 1012521600000, 1014940800000, 1017619200000, 1020211200000, 1022889600000, 1025481600000, 1028160000000, 1030838400000, 1033430400000, 1036108800000, 1038700800000, 1041379200000, 1044057600000, 1046476800000, 1049155200000, 1051747200000, 1054425600000, 1057017600000, 1059696000000, 1062374400000, 1064966400000, 1067644800000, 1070236800000, 1072915200000, 1075593600000, 1078099200000, 1080777600000, 1083369600000, 1086048000000, 1088640000000, 1091318400000, 1093996800000, 1096588800000, 1099267200000, 1101859200000, 1104537600000, 1107216000000, 1109635200000, 1112313600000, 1114905600000, 1117584000000, 1120176000000, 1122854400000, 1125532800000, 1128124800000, 1130803200000, 1133395200000, 1136073600000, 1138752000000, 1141171200000, 1143849600000, 1146441600000, 1149120000000, 1151712000000, 1154390400000, 1157068800000, 1159660800000, 1162339200000, 1164931200000, 1167609600000, 1170288000000, 1172707200000, 1175385600000, 1177977600000, 1180656000000, 1183248000000, 1185926400000, 1188604800000, 1191196800000, 1193875200000, 1196467200000, 1199145600000, 1201824000000, 1204329600000, 1207008000000, 1209600000000, 1212278400000, 1214870400000, 1217548800000, 1220227200000, 1222819200000, 1225497600000, 1228089600000, 1230768000000, 1233446400000, 1235865600000, 1238544000000, 1241136000000, 1243814400000, 1246406400000, 1249084800000, 1251763200000, 1254355200000, 1257033600000, 1259625600000, 1262304000000, 1264982400000, 1267401600000, 1270080000000, 1272672000000, 1275350400000, 1277942400000, 1280620800000, 1283299200000, 1285891200000, 1288569600000, 1291161600000, 1293840000000, 1296518400000, 1298937600000, 1301616000000, 1304208000000, 1306886400000, 1309478400000, 1312156800000, 1314835200000, 1317427200000, 1320105600000, 1322697600000, 1325376000000, 1328054400000, 1330560000000, 1333238400000, 1335830400000, 1338508800000, 1341100800000, 1343779200000, 1346457600000, 1349049600000, 1351728000000, 1354320000000, 1356998400000, 1359676800000, 1362096000000, 1364774400000, 1367366400000, 1370044800000, 1372636800000, 1375315200000, 1377993600000, 1380585600000, 1383264000000, 1385856000000, 1388534400000, 1391212800000, 1393632000000, 1396310400000, 1398902400000, 1401580800000, 1404172800000, 1406851200000, 1409529600000, 1412121600000, 1414800000000, 1417392000000, 1420070400000, 1422748800000, 1425168000000, 1427846400000, 1430438400000, 1433116800000, 1435708800000, 1438387200000, 1441065600000, 1443657600000, 1446336000000, 1448928000000, 1451606400000, 1454284800000, 1456790400000, 1459468800000, 1462060800000, 1464739200000, 1467331200000, 1470009600000, 1472688000000, 1475280000000, 1477958400000, 1480550400000, 1483228800000, 1485907200000, 1488326400000, 1491004800000, 1493596800000, 1496275200000, 1498867200000, 1501545600000, 1504224000000, 1506816000000, 1509494400000, 1512086400000, 1514764800000, 1517443200000, 1519862400000, 1522540800000, 1525132800000, 1527811200000, 1530403200000, 1533081600000, 1535760000000, 1538352000000, 1541030400000, 1543622400000, 1546300800000, 1548979200000, 1551398400000, 1554076800000, 1556668800000, 1559347200000, 1561939200000, 1564617600000, 1567296000000, 1569888000000, 1572566400000, 1575158400000, 1577836800000, 1580515200000, 1583020800000, 1585699200000, 1588291200000, 1590969600000, 1593561600000, 1596240000000, 1598918400000, 1601510400000, 1604188800000, 1606780800000, 1609459200000, 1612137600000, 1614556800000, 1617235200000, 1619827200000, 1622505600000, 1625097600000, 1627776000000, 1630454400000, 1633046400000, 1635724800000, 1638316800000, 1640995200000, 1643673600000, 1646092800000, 1648771200000, 1651363200000, 1654041600000, 1656633600000, 1659312000000, 1661990400000, 1664582400000, 1667260800000, 1669852800000, 1672531200000, 1675209600000, 1677628800000, 1680307200000, 1682899200000, 1685577600000, 1688169600000, 1690848000000, 1693526400000, 1696118400000, 1698796800000, 1701388800000], 'chunking_length': 372, 'chunk_type': None, 'chunk_reference_coordinate': None, 'chunk_geometric_factor': None, 'axis': 't'}]}], 'platforms_metadata': None}], 'retired_date': None, 'released_date': '2024-11-26T13:00:00.000Z', 'arco_updating_start_date': None, 'arco_updated_date': None, 'url_metadata': 'https://s3.waw3-1.cloudferro.com/mdl-metadata/metadata/ANTARCTIC_OMI_SI_extent/antarctic_omi_si_extent_202411/dataset.stac.json'}]}]}]}\n",
            "[CopernicusMarineDataset(dataset_id='antarctic_omi_si_extent', dataset_name='Sea Ice Extent for Southern Hemisphere', digital_object_identifier='10.48670/moi-00186', versions=[CopernicusMarineVersion(label='202411', parts=[CopernicusMarinePart(name='default', services=[CopernicusMarineService(service_name='original-files', service_short_name='files', service_format=None, uri='https://s3.waw3-1.cloudferro.com/mdl-native-10/native/ANTARCTIC_OMI_SI_extent/antarctic_omi_si_extent_202411/ANTARCTIC_OMI_SI_extent.nc', variables=[CopernicusMarineVariable(short_name='siextents_cglo', standard_name='sea_ice_extent', units='km2', bbox=[0.0, 0.0, 0.0, 0.0], coordinates=[]), CopernicusMarineVariable(short_name='siextents_glor', standard_name='sea_ice_extent', units='km2', bbox=[0.0, 0.0, 0.0, 0.0], coordinates=[]), CopernicusMarineVariable(short_name='siextents_mean', standard_name='sea_ice_extent', units='km2', bbox=[0.0, 0.0, 0.0, 0.0], coordinates=[]), CopernicusMarineVariable(short_name='siextents_oras', standard_name='sea_ice_extent', units='km2', bbox=[0.0, 0.0, 0.0, 0.0], coordinates=[]), CopernicusMarineVariable(short_name='siextents_std', standard_name='sea_ice_extent', units='km2', bbox=[0.0, 0.0, 0.0, 0.0], coordinates=[])], platforms_metadata=None), CopernicusMarineService(service_name='omi-arco', service_short_name='omi-arco', service_format='zarr', uri='https://s3.waw3-1.cloudferro.com/mdl-arco-time-001/arco/ANTARCTIC_OMI_SI_extent/antarctic_omi_si_extent_202411/omi.zarr', variables=[CopernicusMarineVariable(short_name='siextents_cglo', standard_name='sea_ice_extent', units='km2', bbox=[0.0, 0.0, 0.0, 0.0], coordinates=[CopernicusMarineCoordinate(coordinate_id='time', coordinate_unit='milliseconds since 1970-01-01 00:00:00Z (no leap seconds)', minimum_value=None, maximum_value=None, step=None, values=[725846400000, 728524800000, 730944000000, 733622400000, 736214400000, 738892800000, 741484800000, 744163200000, 746841600000, 749433600000, 752112000000, 754704000000, 757382400000, 760060800000, 762480000000, 765158400000, 767750400000, 770428800000, 773020800000, 775699200000, 778377600000, 780969600000, 783648000000, 786240000000, 788918400000, 791596800000, 794016000000, 796694400000, 799286400000, 801964800000, 804556800000, 807235200000, 809913600000, 812505600000, 815184000000, 817776000000, 820454400000, 823132800000, 825638400000, 828316800000, 830908800000, 833587200000, 836179200000, 838857600000, 841536000000, 844128000000, 846806400000, 849398400000, 852076800000, 854755200000, 857174400000, 859852800000, 862444800000, 865123200000, 867715200000, 870393600000, 873072000000, 875664000000, 878342400000, 880934400000, 883612800000, 886291200000, 888710400000, 891388800000, 893980800000, 896659200000, 899251200000, 901929600000, 904608000000, 907200000000, 909878400000, 912470400000, 915148800000, 917827200000, 920246400000, 922924800000, 925516800000, 928195200000, 930787200000, 933465600000, 936144000000, 938736000000, 941414400000, 944006400000, 946684800000, 949363200000, 951868800000, 954547200000, 957139200000, 959817600000, 962409600000, 965088000000, 967766400000, 970358400000, 973036800000, 975628800000, 978307200000, 980985600000, 983404800000, 986083200000, 988675200000, 991353600000, 993945600000, 996624000000, 999302400000, 1001894400000, 1004572800000, 1007164800000, 1009843200000, 1012521600000, 1014940800000, 1017619200000, 1020211200000, 1022889600000, 1025481600000, 1028160000000, 1030838400000, 1033430400000, 1036108800000, 1038700800000, 1041379200000, 1044057600000, 1046476800000, 1049155200000, 1051747200000, 1054425600000, 1057017600000, 1059696000000, 1062374400000, 1064966400000, 1067644800000, 1070236800000, 1072915200000, 1075593600000, 1078099200000, 1080777600000, 1083369600000, 1086048000000, 1088640000000, 1091318400000, 1093996800000, 1096588800000, 1099267200000, 1101859200000, 1104537600000, 1107216000000, 1109635200000, 1112313600000, 1114905600000, 1117584000000, 1120176000000, 1122854400000, 1125532800000, 1128124800000, 1130803200000, 1133395200000, 1136073600000, 1138752000000, 1141171200000, 1143849600000, 1146441600000, 1149120000000, 1151712000000, 1154390400000, 1157068800000, 1159660800000, 1162339200000, 1164931200000, 1167609600000, 1170288000000, 1172707200000, 1175385600000, 1177977600000, 1180656000000, 1183248000000, 1185926400000, 1188604800000, 1191196800000, 1193875200000, 1196467200000, 1199145600000, 1201824000000, 1204329600000, 1207008000000, 1209600000000, 1212278400000, 1214870400000, 1217548800000, 1220227200000, 1222819200000, 1225497600000, 1228089600000, 1230768000000, 1233446400000, 1235865600000, 1238544000000, 1241136000000, 1243814400000, 1246406400000, 1249084800000, 1251763200000, 1254355200000, 1257033600000, 1259625600000, 1262304000000, 1264982400000, 1267401600000, 1270080000000, 1272672000000, 1275350400000, 1277942400000, 1280620800000, 1283299200000, 1285891200000, 1288569600000, 1291161600000, 1293840000000, 1296518400000, 1298937600000, 1301616000000, 1304208000000, 1306886400000, 1309478400000, 1312156800000, 1314835200000, 1317427200000, 1320105600000, 1322697600000, 1325376000000, 1328054400000, 1330560000000, 1333238400000, 1335830400000, 1338508800000, 1341100800000, 1343779200000, 1346457600000, 1349049600000, 1351728000000, 1354320000000, 1356998400000, 1359676800000, 1362096000000, 1364774400000, 1367366400000, 1370044800000, 1372636800000, 1375315200000, 1377993600000, 1380585600000, 1383264000000, 1385856000000, 1388534400000, 1391212800000, 1393632000000, 1396310400000, 1398902400000, 1401580800000, 1404172800000, 1406851200000, 1409529600000, 1412121600000, 1414800000000, 1417392000000, 1420070400000, 1422748800000, 1425168000000, 1427846400000, 1430438400000, 1433116800000, 1435708800000, 1438387200000, 1441065600000, 1443657600000, 1446336000000, 1448928000000, 1451606400000, 1454284800000, 1456790400000, 1459468800000, 1462060800000, 1464739200000, 1467331200000, 1470009600000, 1472688000000, 1475280000000, 1477958400000, 1480550400000, 1483228800000, 1485907200000, 1488326400000, 1491004800000, 1493596800000, 1496275200000, 1498867200000, 1501545600000, 1504224000000, 1506816000000, 1509494400000, 1512086400000, 1514764800000, 1517443200000, 1519862400000, 1522540800000, 1525132800000, 1527811200000, 1530403200000, 1533081600000, 1535760000000, 1538352000000, 1541030400000, 1543622400000, 1546300800000, 1548979200000, 1551398400000, 1554076800000, 1556668800000, 1559347200000, 1561939200000, 1564617600000, 1567296000000, 1569888000000, 1572566400000, 1575158400000, 1577836800000, 1580515200000, 1583020800000, 1585699200000, 1588291200000, 1590969600000, 1593561600000, 1596240000000, 1598918400000, 1601510400000, 1604188800000, 1606780800000, 1609459200000, 1612137600000, 1614556800000, 1617235200000, 1619827200000, 1622505600000, 1625097600000, 1627776000000, 1630454400000, 1633046400000, 1635724800000, 1638316800000, 1640995200000, 1643673600000, 1646092800000, 1648771200000, 1651363200000, 1654041600000, 1656633600000, 1659312000000, 1661990400000, 1664582400000, 1667260800000, 1669852800000, 1672531200000, 1675209600000, 1677628800000, 1680307200000, 1682899200000, 1685577600000, 1688169600000, 1690848000000, 1693526400000, 1696118400000, 1698796800000, 1701388800000], chunking_length=372, chunk_type=None, chunk_reference_coordinate=None, chunk_geometric_factor=None, axis='t')]), CopernicusMarineVariable(short_name='siextents_glor', standard_name='sea_ice_extent', units='km2', bbox=[0.0, 0.0, 0.0, 0.0], coordinates=[CopernicusMarineCoordinate(coordinate_id='time', coordinate_unit='milliseconds since 1970-01-01 00:00:00Z (no leap seconds)', minimum_value=None, maximum_value=None, step=None, values=[725846400000, 728524800000, 730944000000, 733622400000, 736214400000, 738892800000, 741484800000, 744163200000, 746841600000, 749433600000, 752112000000, 754704000000, 757382400000, 760060800000, 762480000000, 765158400000, 767750400000, 770428800000, 773020800000, 775699200000, 778377600000, 780969600000, 783648000000, 786240000000, 788918400000, 791596800000, 794016000000, 796694400000, 799286400000, 801964800000, 804556800000, 807235200000, 809913600000, 812505600000, 815184000000, 817776000000, 820454400000, 823132800000, 825638400000, 828316800000, 830908800000, 833587200000, 836179200000, 838857600000, 841536000000, 844128000000, 846806400000, 849398400000, 852076800000, 854755200000, 857174400000, 859852800000, 862444800000, 865123200000, 867715200000, 870393600000, 873072000000, 875664000000, 878342400000, 880934400000, 883612800000, 886291200000, 888710400000, 891388800000, 893980800000, 896659200000, 899251200000, 901929600000, 904608000000, 907200000000, 909878400000, 912470400000, 915148800000, 917827200000, 920246400000, 922924800000, 925516800000, 928195200000, 930787200000, 933465600000, 936144000000, 938736000000, 941414400000, 944006400000, 946684800000, 949363200000, 951868800000, 954547200000, 957139200000, 959817600000, 962409600000, 965088000000, 967766400000, 970358400000, 973036800000, 975628800000, 978307200000, 980985600000, 983404800000, 986083200000, 988675200000, 991353600000, 993945600000, 996624000000, 999302400000, 1001894400000, 1004572800000, 1007164800000, 1009843200000, 1012521600000, 1014940800000, 1017619200000, 1020211200000, 1022889600000, 1025481600000, 1028160000000, 1030838400000, 1033430400000, 1036108800000, 1038700800000, 1041379200000, 1044057600000, 1046476800000, 1049155200000, 1051747200000, 1054425600000, 1057017600000, 1059696000000, 1062374400000, 1064966400000, 1067644800000, 1070236800000, 1072915200000, 1075593600000, 1078099200000, 1080777600000, 1083369600000, 1086048000000, 1088640000000, 1091318400000, 1093996800000, 1096588800000, 1099267200000, 1101859200000, 1104537600000, 1107216000000, 1109635200000, 1112313600000, 1114905600000, 1117584000000, 1120176000000, 1122854400000, 1125532800000, 1128124800000, 1130803200000, 1133395200000, 1136073600000, 1138752000000, 1141171200000, 1143849600000, 1146441600000, 1149120000000, 1151712000000, 1154390400000, 1157068800000, 1159660800000, 1162339200000, 1164931200000, 1167609600000, 1170288000000, 1172707200000, 1175385600000, 1177977600000, 1180656000000, 1183248000000, 1185926400000, 1188604800000, 1191196800000, 1193875200000, 1196467200000, 1199145600000, 1201824000000, 1204329600000, 1207008000000, 1209600000000, 1212278400000, 1214870400000, 1217548800000, 1220227200000, 1222819200000, 1225497600000, 1228089600000, 1230768000000, 1233446400000, 1235865600000, 1238544000000, 1241136000000, 1243814400000, 1246406400000, 1249084800000, 1251763200000, 1254355200000, 1257033600000, 1259625600000, 1262304000000, 1264982400000, 1267401600000, 1270080000000, 1272672000000, 1275350400000, 1277942400000, 1280620800000, 1283299200000, 1285891200000, 1288569600000, 1291161600000, 1293840000000, 1296518400000, 1298937600000, 1301616000000, 1304208000000, 1306886400000, 1309478400000, 1312156800000, 1314835200000, 1317427200000, 1320105600000, 1322697600000, 1325376000000, 1328054400000, 1330560000000, 1333238400000, 1335830400000, 1338508800000, 1341100800000, 1343779200000, 1346457600000, 1349049600000, 1351728000000, 1354320000000, 1356998400000, 1359676800000, 1362096000000, 1364774400000, 1367366400000, 1370044800000, 1372636800000, 1375315200000, 1377993600000, 1380585600000, 1383264000000, 1385856000000, 1388534400000, 1391212800000, 1393632000000, 1396310400000, 1398902400000, 1401580800000, 1404172800000, 1406851200000, 1409529600000, 1412121600000, 1414800000000, 1417392000000, 1420070400000, 1422748800000, 1425168000000, 1427846400000, 1430438400000, 1433116800000, 1435708800000, 1438387200000, 1441065600000, 1443657600000, 1446336000000, 1448928000000, 1451606400000, 1454284800000, 1456790400000, 1459468800000, 1462060800000, 1464739200000, 1467331200000, 1470009600000, 1472688000000, 1475280000000, 1477958400000, 1480550400000, 1483228800000, 1485907200000, 1488326400000, 1491004800000, 1493596800000, 1496275200000, 1498867200000, 1501545600000, 1504224000000, 1506816000000, 1509494400000, 1512086400000, 1514764800000, 1517443200000, 1519862400000, 1522540800000, 1525132800000, 1527811200000, 1530403200000, 1533081600000, 1535760000000, 1538352000000, 1541030400000, 1543622400000, 1546300800000, 1548979200000, 1551398400000, 1554076800000, 1556668800000, 1559347200000, 1561939200000, 1564617600000, 1567296000000, 1569888000000, 1572566400000, 1575158400000, 1577836800000, 1580515200000, 1583020800000, 1585699200000, 1588291200000, 1590969600000, 1593561600000, 1596240000000, 1598918400000, 1601510400000, 1604188800000, 1606780800000, 1609459200000, 1612137600000, 1614556800000, 1617235200000, 1619827200000, 1622505600000, 1625097600000, 1627776000000, 1630454400000, 1633046400000, 1635724800000, 1638316800000, 1640995200000, 1643673600000, 1646092800000, 1648771200000, 1651363200000, 1654041600000, 1656633600000, 1659312000000, 1661990400000, 1664582400000, 1667260800000, 1669852800000, 1672531200000, 1675209600000, 1677628800000, 1680307200000, 1682899200000, 1685577600000, 1688169600000, 1690848000000, 1693526400000, 1696118400000, 1698796800000, 1701388800000], chunking_length=372, chunk_type=None, chunk_reference_coordinate=None, chunk_geometric_factor=None, axis='t')]), CopernicusMarineVariable(short_name='siextents_mean', standard_name='sea_ice_extent', units='km2', bbox=[0.0, 0.0, 0.0, 0.0], coordinates=[CopernicusMarineCoordinate(coordinate_id='time', coordinate_unit='milliseconds since 1970-01-01 00:00:00Z (no leap seconds)', minimum_value=None, maximum_value=None, step=None, values=[725846400000, 728524800000, 730944000000, 733622400000, 736214400000, 738892800000, 741484800000, 744163200000, 746841600000, 749433600000, 752112000000, 754704000000, 757382400000, 760060800000, 762480000000, 765158400000, 767750400000, 770428800000, 773020800000, 775699200000, 778377600000, 780969600000, 783648000000, 786240000000, 788918400000, 791596800000, 794016000000, 796694400000, 799286400000, 801964800000, 804556800000, 807235200000, 809913600000, 812505600000, 815184000000, 817776000000, 820454400000, 823132800000, 825638400000, 828316800000, 830908800000, 833587200000, 836179200000, 838857600000, 841536000000, 844128000000, 846806400000, 849398400000, 852076800000, 854755200000, 857174400000, 859852800000, 862444800000, 865123200000, 867715200000, 870393600000, 873072000000, 875664000000, 878342400000, 880934400000, 883612800000, 886291200000, 888710400000, 891388800000, 893980800000, 896659200000, 899251200000, 901929600000, 904608000000, 907200000000, 909878400000, 912470400000, 915148800000, 917827200000, 920246400000, 922924800000, 925516800000, 928195200000, 930787200000, 933465600000, 936144000000, 938736000000, 941414400000, 944006400000, 946684800000, 949363200000, 951868800000, 954547200000, 957139200000, 959817600000, 962409600000, 965088000000, 967766400000, 970358400000, 973036800000, 975628800000, 978307200000, 980985600000, 983404800000, 986083200000, 988675200000, 991353600000, 993945600000, 996624000000, 999302400000, 1001894400000, 1004572800000, 1007164800000, 1009843200000, 1012521600000, 1014940800000, 1017619200000, 1020211200000, 1022889600000, 1025481600000, 1028160000000, 1030838400000, 1033430400000, 1036108800000, 1038700800000, 1041379200000, 1044057600000, 1046476800000, 1049155200000, 1051747200000, 1054425600000, 1057017600000, 1059696000000, 1062374400000, 1064966400000, 1067644800000, 1070236800000, 1072915200000, 1075593600000, 1078099200000, 1080777600000, 1083369600000, 1086048000000, 1088640000000, 1091318400000, 1093996800000, 1096588800000, 1099267200000, 1101859200000, 1104537600000, 1107216000000, 1109635200000, 1112313600000, 1114905600000, 1117584000000, 1120176000000, 1122854400000, 1125532800000, 1128124800000, 1130803200000, 1133395200000, 1136073600000, 1138752000000, 1141171200000, 1143849600000, 1146441600000, 1149120000000, 1151712000000, 1154390400000, 1157068800000, 1159660800000, 1162339200000, 1164931200000, 1167609600000, 1170288000000, 1172707200000, 1175385600000, 1177977600000, 1180656000000, 1183248000000, 1185926400000, 1188604800000, 1191196800000, 1193875200000, 1196467200000, 1199145600000, 1201824000000, 1204329600000, 1207008000000, 1209600000000, 1212278400000, 1214870400000, 1217548800000, 1220227200000, 1222819200000, 1225497600000, 1228089600000, 1230768000000, 1233446400000, 1235865600000, 1238544000000, 1241136000000, 1243814400000, 1246406400000, 1249084800000, 1251763200000, 1254355200000, 1257033600000, 1259625600000, 1262304000000, 1264982400000, 1267401600000, 1270080000000, 1272672000000, 1275350400000, 1277942400000, 1280620800000, 1283299200000, 1285891200000, 1288569600000, 1291161600000, 1293840000000, 1296518400000, 1298937600000, 1301616000000, 1304208000000, 1306886400000, 1309478400000, 1312156800000, 1314835200000, 1317427200000, 1320105600000, 1322697600000, 1325376000000, 1328054400000, 1330560000000, 1333238400000, 1335830400000, 1338508800000, 1341100800000, 1343779200000, 1346457600000, 1349049600000, 1351728000000, 1354320000000, 1356998400000, 1359676800000, 1362096000000, 1364774400000, 1367366400000, 1370044800000, 1372636800000, 1375315200000, 1377993600000, 1380585600000, 1383264000000, 1385856000000, 1388534400000, 1391212800000, 1393632000000, 1396310400000, 1398902400000, 1401580800000, 1404172800000, 1406851200000, 1409529600000, 1412121600000, 1414800000000, 1417392000000, 1420070400000, 1422748800000, 1425168000000, 1427846400000, 1430438400000, 1433116800000, 1435708800000, 1438387200000, 1441065600000, 1443657600000, 1446336000000, 1448928000000, 1451606400000, 1454284800000, 1456790400000, 1459468800000, 1462060800000, 1464739200000, 1467331200000, 1470009600000, 1472688000000, 1475280000000, 1477958400000, 1480550400000, 1483228800000, 1485907200000, 1488326400000, 1491004800000, 1493596800000, 1496275200000, 1498867200000, 1501545600000, 1504224000000, 1506816000000, 1509494400000, 1512086400000, 1514764800000, 1517443200000, 1519862400000, 1522540800000, 1525132800000, 1527811200000, 1530403200000, 1533081600000, 1535760000000, 1538352000000, 1541030400000, 1543622400000, 1546300800000, 1548979200000, 1551398400000, 1554076800000, 1556668800000, 1559347200000, 1561939200000, 1564617600000, 1567296000000, 1569888000000, 1572566400000, 1575158400000, 1577836800000, 1580515200000, 1583020800000, 1585699200000, 1588291200000, 1590969600000, 1593561600000, 1596240000000, 1598918400000, 1601510400000, 1604188800000, 1606780800000, 1609459200000, 1612137600000, 1614556800000, 1617235200000, 1619827200000, 1622505600000, 1625097600000, 1627776000000, 1630454400000, 1633046400000, 1635724800000, 1638316800000, 1640995200000, 1643673600000, 1646092800000, 1648771200000, 1651363200000, 1654041600000, 1656633600000, 1659312000000, 1661990400000, 1664582400000, 1667260800000, 1669852800000, 1672531200000, 1675209600000, 1677628800000, 1680307200000, 1682899200000, 1685577600000, 1688169600000, 1690848000000, 1693526400000, 1696118400000, 1698796800000, 1701388800000], chunking_length=372, chunk_type=None, chunk_reference_coordinate=None, chunk_geometric_factor=None, axis='t')]), CopernicusMarineVariable(short_name='siextents_oras', standard_name='sea_ice_extent', units='km2', bbox=[0.0, 0.0, 0.0, 0.0], coordinates=[CopernicusMarineCoordinate(coordinate_id='time', coordinate_unit='milliseconds since 1970-01-01 00:00:00Z (no leap seconds)', minimum_value=None, maximum_value=None, step=None, values=[725846400000, 728524800000, 730944000000, 733622400000, 736214400000, 738892800000, 741484800000, 744163200000, 746841600000, 749433600000, 752112000000, 754704000000, 757382400000, 760060800000, 762480000000, 765158400000, 767750400000, 770428800000, 773020800000, 775699200000, 778377600000, 780969600000, 783648000000, 786240000000, 788918400000, 791596800000, 794016000000, 796694400000, 799286400000, 801964800000, 804556800000, 807235200000, 809913600000, 812505600000, 815184000000, 817776000000, 820454400000, 823132800000, 825638400000, 828316800000, 830908800000, 833587200000, 836179200000, 838857600000, 841536000000, 844128000000, 846806400000, 849398400000, 852076800000, 854755200000, 857174400000, 859852800000, 862444800000, 865123200000, 867715200000, 870393600000, 873072000000, 875664000000, 878342400000, 880934400000, 883612800000, 886291200000, 888710400000, 891388800000, 893980800000, 896659200000, 899251200000, 901929600000, 904608000000, 907200000000, 909878400000, 912470400000, 915148800000, 917827200000, 920246400000, 922924800000, 925516800000, 928195200000, 930787200000, 933465600000, 936144000000, 938736000000, 941414400000, 944006400000, 946684800000, 949363200000, 951868800000, 954547200000, 957139200000, 959817600000, 962409600000, 965088000000, 967766400000, 970358400000, 973036800000, 975628800000, 978307200000, 980985600000, 983404800000, 986083200000, 988675200000, 991353600000, 993945600000, 996624000000, 999302400000, 1001894400000, 1004572800000, 1007164800000, 1009843200000, 1012521600000, 1014940800000, 1017619200000, 1020211200000, 1022889600000, 1025481600000, 1028160000000, 1030838400000, 1033430400000, 1036108800000, 1038700800000, 1041379200000, 1044057600000, 1046476800000, 1049155200000, 1051747200000, 1054425600000, 1057017600000, 1059696000000, 1062374400000, 1064966400000, 1067644800000, 1070236800000, 1072915200000, 1075593600000, 1078099200000, 1080777600000, 1083369600000, 1086048000000, 1088640000000, 1091318400000, 1093996800000, 1096588800000, 1099267200000, 1101859200000, 1104537600000, 1107216000000, 1109635200000, 1112313600000, 1114905600000, 1117584000000, 1120176000000, 1122854400000, 1125532800000, 1128124800000, 1130803200000, 1133395200000, 1136073600000, 1138752000000, 1141171200000, 1143849600000, 1146441600000, 1149120000000, 1151712000000, 1154390400000, 1157068800000, 1159660800000, 1162339200000, 1164931200000, 1167609600000, 1170288000000, 1172707200000, 1175385600000, 1177977600000, 1180656000000, 1183248000000, 1185926400000, 1188604800000, 1191196800000, 1193875200000, 1196467200000, 1199145600000, 1201824000000, 1204329600000, 1207008000000, 1209600000000, 1212278400000, 1214870400000, 1217548800000, 1220227200000, 1222819200000, 1225497600000, 1228089600000, 1230768000000, 1233446400000, 1235865600000, 1238544000000, 1241136000000, 1243814400000, 1246406400000, 1249084800000, 1251763200000, 1254355200000, 1257033600000, 1259625600000, 1262304000000, 1264982400000, 1267401600000, 1270080000000, 1272672000000, 1275350400000, 1277942400000, 1280620800000, 1283299200000, 1285891200000, 1288569600000, 1291161600000, 1293840000000, 1296518400000, 1298937600000, 1301616000000, 1304208000000, 1306886400000, 1309478400000, 1312156800000, 1314835200000, 1317427200000, 1320105600000, 1322697600000, 1325376000000, 1328054400000, 1330560000000, 1333238400000, 1335830400000, 1338508800000, 1341100800000, 1343779200000, 1346457600000, 1349049600000, 1351728000000, 1354320000000, 1356998400000, 1359676800000, 1362096000000, 1364774400000, 1367366400000, 1370044800000, 1372636800000, 1375315200000, 1377993600000, 1380585600000, 1383264000000, 1385856000000, 1388534400000, 1391212800000, 1393632000000, 1396310400000, 1398902400000, 1401580800000, 1404172800000, 1406851200000, 1409529600000, 1412121600000, 1414800000000, 1417392000000, 1420070400000, 1422748800000, 1425168000000, 1427846400000, 1430438400000, 1433116800000, 1435708800000, 1438387200000, 1441065600000, 1443657600000, 1446336000000, 1448928000000, 1451606400000, 1454284800000, 1456790400000, 1459468800000, 1462060800000, 1464739200000, 1467331200000, 1470009600000, 1472688000000, 1475280000000, 1477958400000, 1480550400000, 1483228800000, 1485907200000, 1488326400000, 1491004800000, 1493596800000, 1496275200000, 1498867200000, 1501545600000, 1504224000000, 1506816000000, 1509494400000, 1512086400000, 1514764800000, 1517443200000, 1519862400000, 1522540800000, 1525132800000, 1527811200000, 1530403200000, 1533081600000, 1535760000000, 1538352000000, 1541030400000, 1543622400000, 1546300800000, 1548979200000, 1551398400000, 1554076800000, 1556668800000, 1559347200000, 1561939200000, 1564617600000, 1567296000000, 1569888000000, 1572566400000, 1575158400000, 1577836800000, 1580515200000, 1583020800000, 1585699200000, 1588291200000, 1590969600000, 1593561600000, 1596240000000, 1598918400000, 1601510400000, 1604188800000, 1606780800000, 1609459200000, 1612137600000, 1614556800000, 1617235200000, 1619827200000, 1622505600000, 1625097600000, 1627776000000, 1630454400000, 1633046400000, 1635724800000, 1638316800000, 1640995200000, 1643673600000, 1646092800000, 1648771200000, 1651363200000, 1654041600000, 1656633600000, 1659312000000, 1661990400000, 1664582400000, 1667260800000, 1669852800000, 1672531200000, 1675209600000, 1677628800000, 1680307200000, 1682899200000, 1685577600000, 1688169600000, 1690848000000, 1693526400000, 1696118400000, 1698796800000, 1701388800000], chunking_length=372, chunk_type=None, chunk_reference_coordinate=None, chunk_geometric_factor=None, axis='t')]), CopernicusMarineVariable(short_name='siextents_std', standard_name='sea_ice_extent', units='km2', bbox=[0.0, 0.0, 0.0, 0.0], coordinates=[CopernicusMarineCoordinate(coordinate_id='time', coordinate_unit='milliseconds since 1970-01-01 00:00:00Z (no leap seconds)', minimum_value=None, maximum_value=None, step=None, values=[725846400000, 728524800000, 730944000000, 733622400000, 736214400000, 738892800000, 741484800000, 744163200000, 746841600000, 749433600000, 752112000000, 754704000000, 757382400000, 760060800000, 762480000000, 765158400000, 767750400000, 770428800000, 773020800000, 775699200000, 778377600000, 780969600000, 783648000000, 786240000000, 788918400000, 791596800000, 794016000000, 796694400000, 799286400000, 801964800000, 804556800000, 807235200000, 809913600000, 812505600000, 815184000000, 817776000000, 820454400000, 823132800000, 825638400000, 828316800000, 830908800000, 833587200000, 836179200000, 838857600000, 841536000000, 844128000000, 846806400000, 849398400000, 852076800000, 854755200000, 857174400000, 859852800000, 862444800000, 865123200000, 867715200000, 870393600000, 873072000000, 875664000000, 878342400000, 880934400000, 883612800000, 886291200000, 888710400000, 891388800000, 893980800000, 896659200000, 899251200000, 901929600000, 904608000000, 907200000000, 909878400000, 912470400000, 915148800000, 917827200000, 920246400000, 922924800000, 925516800000, 928195200000, 930787200000, 933465600000, 936144000000, 938736000000, 941414400000, 944006400000, 946684800000, 949363200000, 951868800000, 954547200000, 957139200000, 959817600000, 962409600000, 965088000000, 967766400000, 970358400000, 973036800000, 975628800000, 978307200000, 980985600000, 983404800000, 986083200000, 988675200000, 991353600000, 993945600000, 996624000000, 999302400000, 1001894400000, 1004572800000, 1007164800000, 1009843200000, 1012521600000, 1014940800000, 1017619200000, 1020211200000, 1022889600000, 1025481600000, 1028160000000, 1030838400000, 1033430400000, 1036108800000, 1038700800000, 1041379200000, 1044057600000, 1046476800000, 1049155200000, 1051747200000, 1054425600000, 1057017600000, 1059696000000, 1062374400000, 1064966400000, 1067644800000, 1070236800000, 1072915200000, 1075593600000, 1078099200000, 1080777600000, 1083369600000, 1086048000000, 1088640000000, 1091318400000, 1093996800000, 1096588800000, 1099267200000, 1101859200000, 1104537600000, 1107216000000, 1109635200000, 1112313600000, 1114905600000, 1117584000000, 1120176000000, 1122854400000, 1125532800000, 1128124800000, 1130803200000, 1133395200000, 1136073600000, 1138752000000, 1141171200000, 1143849600000, 1146441600000, 1149120000000, 1151712000000, 1154390400000, 1157068800000, 1159660800000, 1162339200000, 1164931200000, 1167609600000, 1170288000000, 1172707200000, 1175385600000, 1177977600000, 1180656000000, 1183248000000, 1185926400000, 1188604800000, 1191196800000, 1193875200000, 1196467200000, 1199145600000, 1201824000000, 1204329600000, 1207008000000, 1209600000000, 1212278400000, 1214870400000, 1217548800000, 1220227200000, 1222819200000, 1225497600000, 1228089600000, 1230768000000, 1233446400000, 1235865600000, 1238544000000, 1241136000000, 1243814400000, 1246406400000, 1249084800000, 1251763200000, 1254355200000, 1257033600000, 1259625600000, 1262304000000, 1264982400000, 1267401600000, 1270080000000, 1272672000000, 1275350400000, 1277942400000, 1280620800000, 1283299200000, 1285891200000, 1288569600000, 1291161600000, 1293840000000, 1296518400000, 1298937600000, 1301616000000, 1304208000000, 1306886400000, 1309478400000, 1312156800000, 1314835200000, 1317427200000, 1320105600000, 1322697600000, 1325376000000, 1328054400000, 1330560000000, 1333238400000, 1335830400000, 1338508800000, 1341100800000, 1343779200000, 1346457600000, 1349049600000, 1351728000000, 1354320000000, 1356998400000, 1359676800000, 1362096000000, 1364774400000, 1367366400000, 1370044800000, 1372636800000, 1375315200000, 1377993600000, 1380585600000, 1383264000000, 1385856000000, 1388534400000, 1391212800000, 1393632000000, 1396310400000, 1398902400000, 1401580800000, 1404172800000, 1406851200000, 1409529600000, 1412121600000, 1414800000000, 1417392000000, 1420070400000, 1422748800000, 1425168000000, 1427846400000, 1430438400000, 1433116800000, 1435708800000, 1438387200000, 1441065600000, 1443657600000, 1446336000000, 1448928000000, 1451606400000, 1454284800000, 1456790400000, 1459468800000, 1462060800000, 1464739200000, 1467331200000, 1470009600000, 1472688000000, 1475280000000, 1477958400000, 1480550400000, 1483228800000, 1485907200000, 1488326400000, 1491004800000, 1493596800000, 1496275200000, 1498867200000, 1501545600000, 1504224000000, 1506816000000, 1509494400000, 1512086400000, 1514764800000, 1517443200000, 1519862400000, 1522540800000, 1525132800000, 1527811200000, 1530403200000, 1533081600000, 1535760000000, 1538352000000, 1541030400000, 1543622400000, 1546300800000, 1548979200000, 1551398400000, 1554076800000, 1556668800000, 1559347200000, 1561939200000, 1564617600000, 1567296000000, 1569888000000, 1572566400000, 1575158400000, 1577836800000, 1580515200000, 1583020800000, 1585699200000, 1588291200000, 1590969600000, 1593561600000, 1596240000000, 1598918400000, 1601510400000, 1604188800000, 1606780800000, 1609459200000, 1612137600000, 1614556800000, 1617235200000, 1619827200000, 1622505600000, 1625097600000, 1627776000000, 1630454400000, 1633046400000, 1635724800000, 1638316800000, 1640995200000, 1643673600000, 1646092800000, 1648771200000, 1651363200000, 1654041600000, 1656633600000, 1659312000000, 1661990400000, 1664582400000, 1667260800000, 1669852800000, 1672531200000, 1675209600000, 1677628800000, 1680307200000, 1682899200000, 1685577600000, 1688169600000, 1690848000000, 1693526400000, 1696118400000, 1698796800000, 1701388800000], chunking_length=372, chunk_type=None, chunk_reference_coordinate=None, chunk_geometric_factor=None, axis='t')])], platforms_metadata=None)], retired_date=None, released_date='2024-11-26T13:00:00.000Z', arco_updating_start_date=None, arco_updated_date=None, url_metadata='https://s3.waw3-1.cloudferro.com/mdl-metadata/metadata/ANTARCTIC_OMI_SI_extent/antarctic_omi_si_extent_202411/dataset.stac.json')])])]\n"
          ]
        }
      ],
      "source": [
        "# Inspect the structure of the first product and its datasets\n",
        "first_product = catalog.products[0]\n",
        "print(first_product.model_dump())\n",
        "print(first_product.datasets)"
      ]
    },
    {
      "cell_type": "markdown",
      "metadata": {
        "id": "ag3DSZUy5kum"
      },
      "source": [
        "## Save catalog as Markdown File"
      ]
    },
    {
      "cell_type": "code",
      "execution_count": 70,
      "metadata": {
        "id": "yIwweG4s5kum"
      },
      "outputs": [],
      "source": [
        "# Initialize the Markdown file\n",
        "md_file = MdUtils(file_name='Copernicus_Marine_Products_and_Datasets')\n",
        "\n",
        "# Iterate through products\n",
        "for product in catalog.products:\n",
        "    product_title = product.title\n",
        "    product_id = product.product_id\n",
        "    description = product.description\n",
        "    thumbnail_url = product.thumbnail_url\n",
        "\n",
        "        # Add thumbnail image if available\n",
        "    if thumbnail_url:\n",
        "        # Resize the image to 100x100 pixels using HTML\n",
        "        img_tag = Html.image(path=thumbnail_url, size='300x200')\n",
        "        md_file.new_paragraph(img_tag)\n",
        "\n",
        "    # Add an empty line after the image\n",
        "    md_file.new_paragraph('\\n')\n",
        "\n",
        "    # Add a header for the product\n",
        "    md_file.new_header(level=1, title=product_title)\n",
        "\n",
        "    # Add product ID\n",
        "    md_file.new_paragraph(f'**Product ID:** {product_id}')\n",
        "\n",
        "    # Add description\n",
        "    md_file.new_paragraph(f'**Description:** {description}')\n",
        "\n",
        "    # Add an empty line after the image\n",
        "    md_file.new_paragraph('\\n')"
      ]
    },
    {
      "cell_type": "code",
      "execution_count": 71,
      "metadata": {
        "colab": {
          "base_uri": "https://localhost:8080/"
        },
        "id": "KWgZvtvx5kum",
        "outputId": "920817c5-64b5-4ff4-a0e3-4cec32d6d248"
      },
      "outputs": [
        {
          "data": {
            "text/plain": [
              "<mdutils.fileutils.fileutils.MarkDownFile at 0x77fcf13d9650>"
            ]
          },
          "execution_count": 71,
          "metadata": {},
          "output_type": "execute_result"
        }
      ],
      "source": [
        "# Create the Markdown file\n",
        "md_file.create_md_file()"
      ]
    },
    {
      "cell_type": "markdown",
      "metadata": {
        "id": "mbr2vdhH5kum"
      },
      "source": [
        "## Display the created overview"
      ]
    },
    {
      "cell_type": "code",
      "execution_count": 72,
      "metadata": {
        "id": "7HT5-t3H5kum"
      },
      "outputs": [],
      "source": [
        "from IPython.display import display, Markdown"
      ]
    },
    {
      "cell_type": "code",
      "execution_count": 73,
      "metadata": {
        "colab": {
          "base_uri": "https://localhost:8080/",
          "height": 1000
        },
        "id": "lL7M0uA05kum",
        "outputId": "1823445a-d4f0-4c60-dd7a-5955848f07fe"
      },
      "outputs": [
        {
          "data": {
            "text/markdown": [
              "\n",
              "\n",
              "\n",
              "\n",
              "\n",
              "<img src=\"https://documentation.marine.copernicus.eu/IMG/ANTARCTIC_OMI_SI_extent.png\" width=\"300\" height=\"200\"/>\n",
              "\n",
              "\n",
              "\n",
              "# Antarctic Sea Ice Extent from Reanalysis\n",
              "\n",
              "\n",
              "**Product ID:** ANTARCTIC_OMI_SI_extent\n",
              "\n",
              "**Description:** **DEFINITION**\n",
              "\n",
              "Estimates of Antarctic sea ice extent are obtained from the surface of oceans grid cells that have at least 15% sea ice concentration. These values are cumulated in the entire Southern Hemisphere (excluding ice lakes) and from 1993 up to real time aiming to:\n",
              "i) obtain the Antarctic sea ice extent as expressed in millions of km squared (106 km2) to monitor both the large-scale variability and mean state and change.\n",
              "ii) to monitor the change in sea ice extent as expressed in millions of km squared per decade (106 km2/decade), or in sea ice extent loss/gain since the beginning of the time series as expressed in percent per decade (%/decade; reference period being the first date of the key figure b) dot-dashed trend line, Vaughan et al., 2013)). For the Southern Hemisphere, these trends are calculated from the annual mean values.\n",
              "The Antarctic sea ice extent used here is based on the “multi-product” (GLOBAL_MULTIYEAR_PHY_ENS_001_031) approach as introduced in the second issue of the Ocean State Report (CMEMS OSR, 2017). Five global products have been used to build the ensemble mean, and its associated ensemble spread.\n",
              "\n",
              "**CONTEXT**\n",
              "\n",
              "Sea ice is frozen seawater that floats on the ocean surface. This large blanket of millions of square kilometers insulates the relatively warm ocean waters from the cold polar atmosphere. The seasonal cycle of the sea ice, forming and melting with the polar seasons, impacts both human activities and biological habitat. Knowing how and how much the sea ice cover is changing is essential for monitoring the health of the Earth as sea ice is one of the highest sensitive natural environments. Variations in sea ice cover can induce changes in ocean stratification and modify the key rule played by the cold poles in the Earth engine (IPCC, 2019).  \n",
              "The sea ice cover is monitored here in terms of sea ice extent quantity. More details and full scientific evaluations can be found in the CMEMS Ocean State Report (Samuelsen et al., 2016; Samuelsen et al., 2018).\n",
              " \n",
              "**CMEMS KEY FINDINGS**\n",
              "\n",
              "With quasi regular highs and lows, the annual Antarctic sea ice extent shows large variability until several monthly record high in 2014 and record lows in 2017, 2018 and 2023. Since the year 1993, the Southern Hemisphere annual sea ice extent regularly alternates positive and negative trend. The period 1993-2023 have seen a slight decrease at a rate of -0.28*106km2 per decade. This represents a loss amount of -2.4% per decade of Southern Hemisphere sea ice extent during this period; with however large uncertainties. The last quarter of the year 2016 and years 2017 and 2018 experienced unusual losses of ice. The year 2023 is an exceptional year and its average has a strong impact on the whole time series.\n",
              "\n",
              "Note: The key findings will be updated annually in November, in line with OMI evolutions.\n",
              "\n",
              "**DOI (product):** \n",
              "https://doi.org/10.48670/moi-00186\n",
              "\n",
              "**References:**\n",
              "\n",
              "* IPCC Special Report on the Ocean and Cryosphere in a Changing Climate. (2019). In H. O. Pörtner, D. C. Roberts, V. Masson-Delmotte, P. Zhai, M. Tignor, E. Poloczanska, K. Mintenbeck, A. Alegría, M. Nicolai, A. Okem, J. Petzold, B. Rama, & N. M. Weyer (Eds.), IPCC Intergovernmental Panel on Climate Change: Geneva, Switzerland. https://www.ipcc.ch/srocc/\n",
              "* Samuelsen et al., 2016: Sea Ice In: The Copernicus Marine Environment Monitoring Service Ocean State Report, issue 1, Journal of Operational Oceanography, 9, 2016, http://dx.doi.org/10.1080/1755876X.2016.1273446.\n",
              "* Samuelsen et al., 2018: Sea Ice. In: The Copernicus Marine Environment Monitoring Service Ocean State Report, issue 2, Journal of Operational Oceanography, 11:sup1, 2018, DOI: 10.1080/1755876X.2018.1489208.\n",
              "* Vaughan, D.G., J.C. Comiso, I. Allison, J. Carrasco, G. Kaser, R. Kwok, P. Mote, T. Murray, F. Paul, J. Ren, E. Rignot, O. Solomina, K. Steffen and T. Zhang, 2013: Observations: Cryosphere. In: Climate Change 2013: The Physical Science Basis. Contribution of Working Group I to the Fifth Assessment Report of the Intergovernmental Panel on Climate Change [Stocker, T.F., D. Qin, G.-K. Plattner, M.Tignor, S.K. Allen, J. Boschung, A. Nauels, Y. Xia, V. Bex and P.M. Midgley (eds.)]. Cambridge University Press, Cambridge, United Kingdom and New York, NY, USA, pp. 317–382, doi:10.1017/CBO9781107415324.012.\n",
              "\n",
              "\n",
              "\n",
              "\n",
              "\n",
              "<img src=\"https://documentation.marine.copernicus.eu/IMG/ANTARCTIC_OMI_SI_extent_obs.png\" width=\"300\" height=\"200\"/>\n",
              "\n",
              "\n",
              "\n",
              "# Antarctic Monthly Sea Ice Extent from Observations Reprocessing\n",
              "\n",
              "\n",
              "**Product ID:** ANTARCTIC_OMI_SI_extent_obs\n",
              "\n",
              "**Description:** **DEFINITION**\n",
              "\n",
              "Sea Ice Extent (SIE) is defined as the area covered by sufficient sea ice, that is the area of ocean having more than 15% Sea Ice Concentration (SIC). SIC is the fractional area of ocean surface that is covered with sea ice. SIC is computed from Passive Microwave satellite observations since 1979. \n",
              "SIE is often reported with units of 106 km2 (millions square kilometers). The change in sea ice extent (trend) is expressed in millions of km squared per decade (106 km2/decade). In addition, trends are expressed relative to the 1979-2022 period in % per decade.\n",
              "These trends are calculated (i) from the annual mean values; (ii) from the September values (winter ice loss); (iii) from February values (summer ice loss). The annual mean trend is reported on the key figure, the September (maximum extent) and February (minimum extent) values are reported in the text below.\n",
              "SIE includes all sea ice, except for lake and river ice.\n",
              "See also section 1.7 in Samuelsen et al. (2016) for an introduction to this Ocean Monitoring Indicator (OMI).\n",
              "\n",
              "**CONTEXT**\n",
              "\n",
              "Sea ice is frozen seawater that floats at the ocean surface. This large blanket of millions of square kilometers insulates the relatively warm ocean waters from the cold polar atmosphere. The seasonal cycle of sea ice, forming and melting with the polar seasons, impacts both human activities and biological habitat. Knowing how and by how much the sea-ice cover is changing is essential for monitoring the health of the Earth (Meredith et al. 2019). \n",
              "\n",
              "**CMEMS KEY FINDINGS**\n",
              "\n",
              "Since 1979, there has been an overall slight increase of sea ice extent in the Southern Hemisphere but a sharp decrease was observed after 2016. Over the period 1979-2022, the annual rate amounts to +0.02 +/- 0.05 106 km2 per decade (+0.18% per decade). Winter (September) sea ice extent trend amounts to +0.06 +/- 0.05106 km2 per decade (+0.32% per decade). Summer (February) sea ice extent trend amounts to -0.01+/- 0.05 106 km2 per decade (-0.38% per decade). These trend estimates are hardly significant, which is in agreement with the IPCC SROCC, which has assessed that ‘Antarctic sea ice extent overall has had no statistically significant trend (1979–2018) due to contrasting regional signals and large interannual variability (high confidence).’ (IPCC, 2019). Both June and July 2022 had the lowest average sea ice extent values for these months since 1979. \n",
              "\n",
              "**Figure caption**\n",
              "\n",
              "a) The seasonal cycle of Southern Hemisphere sea ice extent expressed in millions of km2 averaged over the period 1979-2022 (red), shown together with the seasonal cycle in the year 2022 (green), and b) time series of yearly average Southern Hemisphere sea ice extent expressed in millions of km2. Time series are based on satellite observations (SMMR, SSM/I, SSMIS) by EUMETSAT OSI SAF Sea Ice Index (v2.2) with R&D input from ESA CCI. Details on the product are given in the corresponding PUM for this OMI. The change of sea ice extent over the period 1979-2022      is expressed as a trend in millions of square kilometers per decade and is plotted with a dashed line on panel b).\n",
              "\n",
              "**DOI (product):** \n",
              "https://doi.org/10.48670/moi-00187\n",
              "\n",
              "**References:**\n",
              "\n",
              "* Meredith, M., M. Sommerkorn, S. Cassotta, C. Derksen, A. Ekaykin, A. Hollowed, G. Kofinas, A. Mackintosh, J. Melbourne-Thomas, M.M.C. Muelbert, G. Ottersen, H. Pritchard, and E.A.G. Schuur, 2019: Polar Regions. In: IPCC Special Report on the Ocean and Cryosphere in a Changing Climate [H.-O. Pörtner, D.C. Roberts, V. Masson-Delmotte, P. Zhai, M. Tignor, E. Poloczanska, K. Mintenbeck, A. Alegría, M. Nicolai, A. Okem, J. Petzold, B. Rama, N.M. Weyer (eds.)]. In press.\n",
              "* IPCC, 2019: IPCC Special Report on the Ocean and Cryosphere in a Changing Climate [H.-O. Pörtner, D.C. Roberts, V. Masson-Delmotte, P. Zhai, M. Tignor, E. Poloczanska, K. Mintenbeck, A. Alegría, M. Nicolai, A. Okem, J. Petzold, B. Rama, N.M. Weyer (eds.)]. In press.\n",
              "* Samuelsen, A., L.-A. Breivik, R.P. Raj, G. Garric, L. Axell, E. Olason (2016): Sea Ice. In: The Copernicus Marine Service Ocean State Report, issue 1, Journal of Operational Oceanography, 9:sup2, s235-s320, DOI: 10.1080/1755876X.2016.1273446\n",
              "\n",
              "\n",
              "\n",
              "\n",
              "\n",
              "<img src=\"https://mdl-metadata.s3.waw3-1.cloudferro.com/metadata/thumbnails/ARCTIC_ANALYSISFORECAST_BGC_002_004.jpg\" width=\"300\" height=\"200\"/>\n",
              "\n",
              "\n",
              "\n",
              "# Arctic Ocean Biogeochemistry Analysis and Forecast\n",
              "\n",
              "\n",
              "**Product ID:** ARCTIC_ANALYSISFORECAST_BGC_002_004\n",
              "\n",
              "**Description:** The operational TOPAZ5-ECOSMO Arctic Ocean system uses the ECOSMO biological model coupled online to the TOPAZ5 physical model (ARCTIC_ANALYSISFORECAST_PHY_002_001 product). It is run daily to provide 10 days of forecast of 3D biogeochemical variables ocean. The coupling is done by the FABM framework.\n",
              "\n",
              "Coupling to a biological ocean model provides a description of the evolution of basic biogeochemical variables. The output consists of daily mean fields interpolated onto a standard grid and 40 fixed levels in NetCDF4 CF format. Variables include 3D fields of nutrients (nitrate, phosphate, silicate), phytoplankton and zooplankton biomass, oxygen, chlorophyll, primary productivity, carbon cycle variables (pH, dissolved inorganic carbon and surface partial CO2 pressure in seawater) and light attenuation coefficient. Surface Chlorophyll-a from satellite ocean colour is assimilated every week and projected downwards using a modified Ardyna et al. (2013) method. A new 10-day forecast is produced daily using the previous day's forecast and the most up-to-date prognostic forcing fields.\n",
              "\n",
              "\n",
              "... *truncated*"
            ],
            "text/plain": [
              "<IPython.core.display.Markdown object>"
            ]
          },
          "metadata": {},
          "output_type": "display_data"
        }
      ],
      "source": [
        "# Display the generated markdown file at the end of the notebook\n",
        "n_lines = 100  # how many lines to display\n",
        "with open(\"Copernicus_Marine_Products_and_Datasets.md\", \"r\") as file:\n",
        "    content = \"\".join([next(file) for _ in range(n_lines)])\n",
        "display(Markdown(content + \"\\n\\n... *truncated*\"))"
      ]
    },
    {
      "cell_type": "markdown",
      "metadata": {
        "id": "qeW951bKBeRa"
      },
      "source": [
        "## Download data"
      ]
    },
    {
      "cell_type": "code",
      "execution_count": 74,
      "metadata": {
        "id": "9ajcvY0E5kum"
      },
      "outputs": [],
      "source": [
        "import datetime as dt\n",
        "# Product example: ARCTIC_ANALYSISFORECAST_BGC_002_004\n",
        "DATASET_ID = \"cmems_mod_arc_bgc_anfc_ecosmo_P1D-m\"  #  ⟵ from product page (Select one of you choice)\n",
        "\n",
        "# Small AOI covering Iceland and nearby Arctic (adjust as you wish)\n",
        "bbox = dict(\n",
        "    minimum_longitude=-40.0, maximum_longitude=40.0,\n",
        "    minimum_latitude=60.0,  maximum_latitude=85.0\n",
        ")\n",
        "\n",
        "# Use \"latest\" day that is surely produced (yesterday is safe for NRT)\n",
        "end = dt.datetime.utcnow().date()\n",
        "start = end - dt.timedelta(days=1)\n",
        "time_sel = dict(\n",
        "    start_datetime=start.isoformat(),\n",
        "    end_datetime=end.isoformat()\n",
        ")\n",
        "\n",
        "# Name of the file we download\n",
        "out_nc = \"arctic_bgc_chl.nc\""
      ]
    },
    {
      "cell_type": "code",
      "execution_count": 75,
      "metadata": {
        "colab": {
          "base_uri": "https://localhost:8080/",
          "height": 275,
          "referenced_widgets": [
            "eb5d19fd4b494cf689d20c9845852bb3",
            "42852a4990274adaab29f39252ffbeee",
            "c433e745f21643d08d04a27461c28caf",
            "3b6b7a1519b44ffc87a50174310aa194",
            "58a71907e04145c583d934fdc34d4c88",
            "64d4c8fc269d4dd1b5a6140e4d0c6788",
            "fdd4e87cc8af4c8ebc90c19fc253d492",
            "862ea5ee81fe4395acf0f1274552afbb",
            "98dea2cd5b1e49149a0df532c7fb5132",
            "b8405145a95d4b3184a2aa8cacaebccb",
            "32628a663b774547911fc0f727899d1b"
          ]
        },
        "id": "QQysT1js9tyK",
        "outputId": "d9f3dd76-0a13-45cc-b6f4-099552ed9ac5"
      },
      "outputs": [
        {
          "name": "stderr",
          "output_type": "stream",
          "text": [
            "INFO - 2025-08-14T15:39:27Z - Selected dataset version: \"202105\"\n",
            "INFO:copernicusmarine:Selected dataset version: \"202105\"\n",
            "INFO - 2025-08-14T15:39:27Z - Selected dataset part: \"default\"\n",
            "INFO:copernicusmarine:Selected dataset part: \"default\"\n",
            "INFO - 2025-08-14T15:39:41Z - Starting download. Please wait...\n",
            "INFO:copernicusmarine:Starting download. Please wait...\n"
          ]
        },
        {
          "data": {
            "application/vnd.jupyter.widget-view+json": {
              "model_id": "eb5d19fd4b494cf689d20c9845852bb3",
              "version_major": 2,
              "version_minor": 0
            },
            "text/plain": [
              "  0%|          | 0/54 [00:00<?, ?it/s]"
            ]
          },
          "metadata": {
            "application/vnd.jupyter.widget-view+json": {
              "colab": {
                "custom_widget_manager": {
                  "url": "https://ssl.gstatic.com/colaboratory-static/widgets/colab-cdn-widget-manager/2b70e893a8ba7c0f/manager.min.js"
                }
              }
            }
          },
          "output_type": "display_data"
        },
        {
          "name": "stderr",
          "output_type": "stream",
          "text": [
            "INFO - 2025-08-14T15:40:15Z - Successfully downloaded to arctic_bgc_chl_(1).nc\n",
            "INFO:copernicusmarine:Successfully downloaded to arctic_bgc_chl_(1).nc\n"
          ]
        },
        {
          "data": {
            "text/plain": [
              "ResponseSubset(file_path=PosixPath('arctic_bgc_chl_(1).nc'), output_directory=PosixPath('.'), filename='arctic_bgc_chl_(1).nc', file_size=42.86796183206107, data_transfer_size=531.1198778625953, variables=['chl', 'dissic', 'expc', 'kd', 'model_depth', 'no3', 'nppv', 'o2', 'ph', 'phyc', 'po4', 'si', 'spco2', 'zooc'], coordinates_extent=[GeographicalExtent(minimum=-39.999999999978115, maximum=39.92000000003438, unit='degrees_east', coordinate_id='longitude'), GeographicalExtent(minimum=60.0, maximum=85.0, unit='degrees_north', coordinate_id='latitude'), TimeExtent(minimum='2025-08-13T00:00:00+00:00', maximum='2025-08-14T00:00:00+00:00', unit='iso8601', coordinate_id='time'), GeographicalExtent(minimum=0.0, maximum=0.0, unit='m', coordinate_id='depth')], status='000', message='The request was successful.', file_status='DOWNLOADED')"
            ]
          },
          "execution_count": 75,
          "metadata": {},
          "output_type": "execute_result"
        }
      ],
      "source": [
        "# We'll ask for \"chl*\" but stay robust: if variable name differs, we'll detect it later from the file itself.\n",
        "# Request only surface layer (0 m). Many CMEMS BGC datasets use \"depth\" in meters.\n",
        "cm.subset(\n",
        "    dataset_id=DATASET_ID,\n",
        "    variables=None,                      # keep None here; we’ll auto-pick \"chl\" variable after download\n",
        "    **bbox,\n",
        "    minimum_depth=0, maximum_depth=0,    # surface\n",
        "    **time_sel,\n",
        "    output_filename=out_nc\n",
        ")"
      ]
    },
    {
      "cell_type": "markdown",
      "metadata": {
        "id": "GYJ-DLxsBjd5"
      },
      "source": [
        "## Convert the data to TIFF (to plot on map)"
      ]
    },
    {
      "cell_type": "code",
      "execution_count": 76,
      "metadata": {
        "colab": {
          "base_uri": "https://localhost:8080/",
          "height": 35
        },
        "id": "X2R36Tyi-Qii",
        "outputId": "2a94a5ec-48e1-43b8-bad5-23cea137b5b0"
      },
      "outputs": [
        {
          "data": {
            "application/vnd.google.colaboratory.intrinsic+json": {
              "type": "string"
            },
            "text/plain": [
              "'arctic_bgc_chl.tif'"
            ]
          },
          "execution_count": 76,
          "metadata": {},
          "output_type": "execute_result"
        }
      ],
      "source": [
        "import xarray as xr\n",
        "import rioxarray as rxr\n",
        "\n",
        "ds = xr.open_dataset(out_nc, decode_times=True)\n",
        "\n",
        "# ---- Find a chlorophyll-like variable (robust to name variations)\n",
        "candidates = [v for v in ds.data_vars if (\"chl\" in v.lower()) or (\"chlor\" in v.lower())]\n",
        "if not candidates:\n",
        "    raise ValueError(f\"No chlorophyll-like variable found in {list(ds.data_vars)}\")\n",
        "var = candidates[0]\n",
        "da = ds[var]\n",
        "\n",
        "# ---- Select a single time slice (nearest to end date)\n",
        "if \"time\" in da.dims:\n",
        "    da = da.sel(time=da[\"time\"].max())\n",
        "\n",
        "# ---- Some CMEMS grids are polar stereographic with x/y & grid_mapping.\n",
        "# Try to attach CRS using the CF grid mapping, otherwise assume lat/lon.\n",
        "def write_geotiff_from_da(da, tif_path=\"arctic_bgc_chl.tif\"):\n",
        "    # If we have lat/lon coords, reproject on-the-fly by assigning EPSG:4326\n",
        "    if set([\"lat\", \"latitude\"]).intersection(da.coords) and set([\"lon\", \"longitude\"]).intersection(da.coords):\n",
        "        # Normalize coordinate names\n",
        "        lat_name = \"lat\" if \"lat\" in da.coords else \"latitude\"\n",
        "        lon_name = \"lon\" if \"lon\" in da.coords else \"longitude\"\n",
        "        da = da.rename({lat_name: \"lat\", lon_name: \"lon\"})\n",
        "        # rioxarray expects y,x order named differently; use .rio.set_spatial_dims\n",
        "        da = da.rio.set_spatial_dims(x_dim=\"lon\", y_dim=\"lat\", inplace=False)\n",
        "        da = da.rio.write_crs(4326, inplace=False)\n",
        "        da.rio.to_raster(tif_path)\n",
        "        return tif_path\n",
        "\n",
        "    # Else assume projected x/y with CF grid_mapping\n",
        "    # rioxarray can parse CRS from the grid mapping variable when present.\n",
        "    # Find 'x','y' or 'rlon','rlat' etc., normalize to x/y.\n",
        "    spatial_dims = [d for d in da.dims if d.lower() in (\"x\",\"y\",\"rlon\",\"rlat\",\"cols\",\"rows\")]\n",
        "    if len(spatial_dims) >= 2:\n",
        "        # Try to infer x/y order\n",
        "        # Prefer something like ('x','y'); else sort by \"x-like\" first\n",
        "        order = []\n",
        "        for cand in (\"x\",\"rlon\",\"cols\"):\n",
        "            if cand in da.dims: order.append(cand)\n",
        "        for cand in (\"y\",\"rlat\",\"rows\"):\n",
        "            if cand in da.dims: order.append(cand)\n",
        "        # Fallback: keep existing\n",
        "        if len(order) != 2: order = da.dims[:2]\n",
        "        da = da.rename({order[0]: \"x\", order[1]: \"y\"})\n",
        "        # Attach CRS from grid mapping if available\n",
        "        gm = da.rio.grid_mapping\n",
        "        if gm is None:\n",
        "            # As a last resort, try common polar stereographic for ARC MFC\n",
        "            # (Best effort; proper CRS comes from CF metadata.)\n",
        "            da = da.rio.write_crs(\"EPSG:3857\", inplace=False)  # Arctic Polar Stereographic\n",
        "        # Ensure spatial dims are set\n",
        "        da = da.rio.set_spatial_dims(x_dim=\"x\", y_dim=\"y\", inplace=False)\n",
        "        da.rio.to_raster(tif_path)\n",
        "        return tif_path\n",
        "\n",
        "    raise RuntimeError(\"Could not determine geospatial coordinates/CRS to write GeoTIFF.\")\n",
        "\n",
        "tif_path = write_geotiff_from_da(da, \"arctic_bgc_chl.tif\")\n",
        "tif_path"
      ]
    },
    {
      "cell_type": "markdown",
      "metadata": {
        "id": "MawjJIkRBmX5"
      },
      "source": [
        "## Display the data on a map"
      ]
    },
    {
      "cell_type": "code",
      "execution_count": null,
      "metadata": {
        "id": "zWhMqJ_R-hAG"
      },
      "outputs": [],
      "source": [
        "import leafmap\n",
        "\n",
        "# Initialize map\n",
        "m = leafmap.Map(center=[70, -20], zoom=3)\n",
        "\n",
        "# Add background layer\n",
        "m.add_basemap(\"Esri.OceanBasemap\")\n",
        "\n",
        "# Add our downloaded raster\n",
        "m.add_raster(\n",
        "    tif_path,\n",
        "    layer_name=\"Chlorophyll-a (surface)\",\n",
        "    zoom_to_layer=True,\n",
        "    colormap=\"viridis\",\n",
        "    vmin=0, # Min value for color scale\n",
        "    vmax=10 # Max value for color scale\n",
        ")\n",
        "\n",
        "# Display map\n",
        "m"
      ]
    },
    {
      "cell_type": "markdown",
      "metadata": {
        "id": "YjMz7ZaHCLjN"
      },
      "source": [
        "## Display data directly from the web with no download"
      ]
    },
    {
      "cell_type": "code",
      "execution_count": null,
      "metadata": {
        "id": "x-nU2Fmo_dHV"
      },
      "outputs": [],
      "source": [
        "import leafmap\n",
        "\n",
        "# The layer identifier you can find them all here: https://data.marine.copernicus.eu/products\n",
        "LAYER_ID = (\"ARCTIC_ANALYSISFORECAST_BGC_002_004/\"\n",
        "            \"cmems_mod_arc_bgc_anfc_ecosmo_P1D-m_202105/chl\")\n",
        "\n",
        "# Pick any of the listed times;\n",
        "ISO_TIME = \"2025-07-01T00:00:00Z\"\n",
        "\n",
        "# Optional: elevation (depth, in meters). The default in the XML is ~ -0.494 m (surface layer in z*)\n",
        "ELEVATION = \"-0.4940253794193268\"   # or omit the &ELEVATION param to use the default\n",
        "\n",
        "# Choose a TileMatrixSet that matches your basemap (Web Mercator or WGS84)\n",
        "TMS = \"EPSG:3857\"\n",
        "\n",
        "# Server-side styling. If viridis isn’t available on this layer, switch to 'cmap:matter' or use 'logScale' variant.\n",
        "STYLE = \"cmap:viridis\"      # fallback: \"cmap:matter\" or \"cmap:matter,logScale\"\n",
        "\n",
        "# Make URL\n",
        "WMTS_URL = (\n",
        "    \"https://wmts.marine.copernicus.eu/teroWmts\"\n",
        "    \"?SERVICE=WMTS&REQUEST=GetTile&VERSION=1.0.0\"\n",
        "    f\"&LAYER={LAYER_ID}\"\n",
        "    \"&FORMAT=image/png\"\n",
        "    f\"&TILEMATRIXSET={TMS}\"\n",
        "    \"&TILEMATRIX={z}&TILEROW={y}&TILECOL={x}\"\n",
        "    f\"&time={ISO_TIME}\"\n",
        "    f\"&STYLE={STYLE}\"\n",
        "    f\"&ELEVATION={ELEVATION}\"\n",
        ")\n",
        "\n",
        "# Prepare map\n",
        "m = leafmap.Map(center=[30, 0], zoom=2)\n",
        "\n",
        "# Add our WMTS layer\n",
        "m.add_tile_layer(\n",
        "    url=WMTS_URL,\n",
        "    name=\"CMEMS Zooplankton (monthly)\",\n",
        "    attribution=\"Copernicus Marine\"\n",
        ")\n",
        "m"
      ]
    },
    {
      "cell_type": "markdown",
      "metadata": {
        "id": "NrnIY1mOGKMC"
      },
      "source": [
        "The difference is that on the online data served as Web Map Tile Server (WMTS) it is not possible to process the data, while on the downloaded data it is possibe to combine it with other data or extract the single pixel values."
      ]
    }
  ],
  "metadata": {
    "colab": {
      "provenance": []
    },
    "kernelspec": {
      "display_name": "Python 3",
      "language": "python",
      "name": "python3"
    },
    "language_info": {
      "codemirror_mode": {
        "name": "ipython",
        "version": 3
      },
      "file_extension": ".py",
      "mimetype": "text/x-python",
      "name": "python",
      "nbconvert_exporter": "python",
      "pygments_lexer": "ipython3",
      "version": "3.11.4"
    },
    "widgets": {
      "application/vnd.jupyter.widget-state+json": {
        "32628a663b774547911fc0f727899d1b": {
          "model_module": "@jupyter-widgets/controls",
          "model_module_version": "1.5.0",
          "model_name": "DescriptionStyleModel",
          "state": {
            "_model_module": "@jupyter-widgets/controls",
            "_model_module_version": "1.5.0",
            "_model_name": "DescriptionStyleModel",
            "_view_count": null,
            "_view_module": "@jupyter-widgets/base",
            "_view_module_version": "1.2.0",
            "_view_name": "StyleView",
            "description_width": ""
          }
        },
        "3b6b7a1519b44ffc87a50174310aa194": {
          "model_module": "@jupyter-widgets/controls",
          "model_module_version": "1.5.0",
          "model_name": "HTMLModel",
          "state": {
            "_dom_classes": [],
            "_model_module": "@jupyter-widgets/controls",
            "_model_module_version": "1.5.0",
            "_model_name": "HTMLModel",
            "_view_count": null,
            "_view_module": "@jupyter-widgets/controls",
            "_view_module_version": "1.5.0",
            "_view_name": "HTMLView",
            "description": "",
            "description_tooltip": null,
            "layout": "IPY_MODEL_b8405145a95d4b3184a2aa8cacaebccb",
            "placeholder": "​",
            "style": "IPY_MODEL_32628a663b774547911fc0f727899d1b",
            "value": " 54/54 [00:31&lt;00:00,  2.40it/s]"
          }
        },
        "42852a4990274adaab29f39252ffbeee": {
          "model_module": "@jupyter-widgets/controls",
          "model_module_version": "1.5.0",
          "model_name": "HTMLModel",
          "state": {
            "_dom_classes": [],
            "_model_module": "@jupyter-widgets/controls",
            "_model_module_version": "1.5.0",
            "_model_name": "HTMLModel",
            "_view_count": null,
            "_view_module": "@jupyter-widgets/controls",
            "_view_module_version": "1.5.0",
            "_view_name": "HTMLView",
            "description": "",
            "description_tooltip": null,
            "layout": "IPY_MODEL_64d4c8fc269d4dd1b5a6140e4d0c6788",
            "placeholder": "​",
            "style": "IPY_MODEL_fdd4e87cc8af4c8ebc90c19fc253d492",
            "value": "100%"
          }
        },
        "58a71907e04145c583d934fdc34d4c88": {
          "model_module": "@jupyter-widgets/base",
          "model_module_version": "1.2.0",
          "model_name": "LayoutModel",
          "state": {
            "_model_module": "@jupyter-widgets/base",
            "_model_module_version": "1.2.0",
            "_model_name": "LayoutModel",
            "_view_count": null,
            "_view_module": "@jupyter-widgets/base",
            "_view_module_version": "1.2.0",
            "_view_name": "LayoutView",
            "align_content": null,
            "align_items": null,
            "align_self": null,
            "border": null,
            "bottom": null,
            "display": null,
            "flex": null,
            "flex_flow": null,
            "grid_area": null,
            "grid_auto_columns": null,
            "grid_auto_flow": null,
            "grid_auto_rows": null,
            "grid_column": null,
            "grid_gap": null,
            "grid_row": null,
            "grid_template_areas": null,
            "grid_template_columns": null,
            "grid_template_rows": null,
            "height": null,
            "justify_content": null,
            "justify_items": null,
            "left": null,
            "margin": null,
            "max_height": null,
            "max_width": null,
            "min_height": null,
            "min_width": null,
            "object_fit": null,
            "object_position": null,
            "order": null,
            "overflow": null,
            "overflow_x": null,
            "overflow_y": null,
            "padding": null,
            "right": null,
            "top": null,
            "visibility": null,
            "width": null
          }
        },
        "64d4c8fc269d4dd1b5a6140e4d0c6788": {
          "model_module": "@jupyter-widgets/base",
          "model_module_version": "1.2.0",
          "model_name": "LayoutModel",
          "state": {
            "_model_module": "@jupyter-widgets/base",
            "_model_module_version": "1.2.0",
            "_model_name": "LayoutModel",
            "_view_count": null,
            "_view_module": "@jupyter-widgets/base",
            "_view_module_version": "1.2.0",
            "_view_name": "LayoutView",
            "align_content": null,
            "align_items": null,
            "align_self": null,
            "border": null,
            "bottom": null,
            "display": null,
            "flex": null,
            "flex_flow": null,
            "grid_area": null,
            "grid_auto_columns": null,
            "grid_auto_flow": null,
            "grid_auto_rows": null,
            "grid_column": null,
            "grid_gap": null,
            "grid_row": null,
            "grid_template_areas": null,
            "grid_template_columns": null,
            "grid_template_rows": null,
            "height": null,
            "justify_content": null,
            "justify_items": null,
            "left": null,
            "margin": null,
            "max_height": null,
            "max_width": null,
            "min_height": null,
            "min_width": null,
            "object_fit": null,
            "object_position": null,
            "order": null,
            "overflow": null,
            "overflow_x": null,
            "overflow_y": null,
            "padding": null,
            "right": null,
            "top": null,
            "visibility": null,
            "width": null
          }
        },
        "862ea5ee81fe4395acf0f1274552afbb": {
          "model_module": "@jupyter-widgets/base",
          "model_module_version": "1.2.0",
          "model_name": "LayoutModel",
          "state": {
            "_model_module": "@jupyter-widgets/base",
            "_model_module_version": "1.2.0",
            "_model_name": "LayoutModel",
            "_view_count": null,
            "_view_module": "@jupyter-widgets/base",
            "_view_module_version": "1.2.0",
            "_view_name": "LayoutView",
            "align_content": null,
            "align_items": null,
            "align_self": null,
            "border": null,
            "bottom": null,
            "display": null,
            "flex": null,
            "flex_flow": null,
            "grid_area": null,
            "grid_auto_columns": null,
            "grid_auto_flow": null,
            "grid_auto_rows": null,
            "grid_column": null,
            "grid_gap": null,
            "grid_row": null,
            "grid_template_areas": null,
            "grid_template_columns": null,
            "grid_template_rows": null,
            "height": null,
            "justify_content": null,
            "justify_items": null,
            "left": null,
            "margin": null,
            "max_height": null,
            "max_width": null,
            "min_height": null,
            "min_width": null,
            "object_fit": null,
            "object_position": null,
            "order": null,
            "overflow": null,
            "overflow_x": null,
            "overflow_y": null,
            "padding": null,
            "right": null,
            "top": null,
            "visibility": null,
            "width": null
          }
        },
        "98dea2cd5b1e49149a0df532c7fb5132": {
          "model_module": "@jupyter-widgets/controls",
          "model_module_version": "1.5.0",
          "model_name": "ProgressStyleModel",
          "state": {
            "_model_module": "@jupyter-widgets/controls",
            "_model_module_version": "1.5.0",
            "_model_name": "ProgressStyleModel",
            "_view_count": null,
            "_view_module": "@jupyter-widgets/base",
            "_view_module_version": "1.2.0",
            "_view_name": "StyleView",
            "bar_color": null,
            "description_width": ""
          }
        },
        "b8405145a95d4b3184a2aa8cacaebccb": {
          "model_module": "@jupyter-widgets/base",
          "model_module_version": "1.2.0",
          "model_name": "LayoutModel",
          "state": {
            "_model_module": "@jupyter-widgets/base",
            "_model_module_version": "1.2.0",
            "_model_name": "LayoutModel",
            "_view_count": null,
            "_view_module": "@jupyter-widgets/base",
            "_view_module_version": "1.2.0",
            "_view_name": "LayoutView",
            "align_content": null,
            "align_items": null,
            "align_self": null,
            "border": null,
            "bottom": null,
            "display": null,
            "flex": null,
            "flex_flow": null,
            "grid_area": null,
            "grid_auto_columns": null,
            "grid_auto_flow": null,
            "grid_auto_rows": null,
            "grid_column": null,
            "grid_gap": null,
            "grid_row": null,
            "grid_template_areas": null,
            "grid_template_columns": null,
            "grid_template_rows": null,
            "height": null,
            "justify_content": null,
            "justify_items": null,
            "left": null,
            "margin": null,
            "max_height": null,
            "max_width": null,
            "min_height": null,
            "min_width": null,
            "object_fit": null,
            "object_position": null,
            "order": null,
            "overflow": null,
            "overflow_x": null,
            "overflow_y": null,
            "padding": null,
            "right": null,
            "top": null,
            "visibility": null,
            "width": null
          }
        },
        "c433e745f21643d08d04a27461c28caf": {
          "model_module": "@jupyter-widgets/controls",
          "model_module_version": "1.5.0",
          "model_name": "FloatProgressModel",
          "state": {
            "_dom_classes": [],
            "_model_module": "@jupyter-widgets/controls",
            "_model_module_version": "1.5.0",
            "_model_name": "FloatProgressModel",
            "_view_count": null,
            "_view_module": "@jupyter-widgets/controls",
            "_view_module_version": "1.5.0",
            "_view_name": "ProgressView",
            "bar_style": "success",
            "description": "",
            "description_tooltip": null,
            "layout": "IPY_MODEL_862ea5ee81fe4395acf0f1274552afbb",
            "max": 54,
            "min": 0,
            "orientation": "horizontal",
            "style": "IPY_MODEL_98dea2cd5b1e49149a0df532c7fb5132",
            "value": 54
          }
        },
        "eb5d19fd4b494cf689d20c9845852bb3": {
          "model_module": "@jupyter-widgets/controls",
          "model_module_version": "1.5.0",
          "model_name": "HBoxModel",
          "state": {
            "_dom_classes": [],
            "_model_module": "@jupyter-widgets/controls",
            "_model_module_version": "1.5.0",
            "_model_name": "HBoxModel",
            "_view_count": null,
            "_view_module": "@jupyter-widgets/controls",
            "_view_module_version": "1.5.0",
            "_view_name": "HBoxView",
            "box_style": "",
            "children": [
              "IPY_MODEL_42852a4990274adaab29f39252ffbeee",
              "IPY_MODEL_c433e745f21643d08d04a27461c28caf",
              "IPY_MODEL_3b6b7a1519b44ffc87a50174310aa194"
            ],
            "layout": "IPY_MODEL_58a71907e04145c583d934fdc34d4c88"
          }
        },
        "fdd4e87cc8af4c8ebc90c19fc253d492": {
          "model_module": "@jupyter-widgets/controls",
          "model_module_version": "1.5.0",
          "model_name": "DescriptionStyleModel",
          "state": {
            "_model_module": "@jupyter-widgets/controls",
            "_model_module_version": "1.5.0",
            "_model_name": "DescriptionStyleModel",
            "_view_count": null,
            "_view_module": "@jupyter-widgets/base",
            "_view_module_version": "1.2.0",
            "_view_name": "StyleView",
            "description_width": ""
          }
        }
      }
    }
  },
  "nbformat": 4,
  "nbformat_minor": 0
}
